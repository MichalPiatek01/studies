{
 "cells": [
  {
   "cell_type": "markdown",
   "metadata": {},
   "source": [
    "## IS, AiP\n",
    "### Praca domowa 08\n"
   ]
  },
  {
   "cell_type": "code",
   "execution_count": null,
   "metadata": {},
   "outputs": [],
   "source": []
  },
  {
   "cell_type": "markdown",
   "metadata": {},
   "source": [
    "## Zad PD0801. Baza danych studentów. Adresowanie bezpośrednie.\n",
    "\n",
    "Proszę stworzyć klasę `BazaDanychAB`. Będzie to baza danych która zapewnia dostep do informacji o studentach. Informacje o studencie powinna obsługiwać inna klasa - `Student`. \n",
    "\n",
    "#### Funkcjonalność\n",
    "* klasa `BazaDanychAB`\n",
    "        >>> is = BazaDanychAB()\n",
    "* klasa `Student`: pola widoczne w przykładach + get/set + `__repr__` i `__str__`\n",
    "        >>> Asembler = Student(album=123456, nazwisko='Asembler', kierunek='Informatyka Stosowana', rok=3, grupa=1)\n",
    "        >>> Cobol = Student(album=956123, nazwisko='Cobol', kierunek='Informatyka Stosowana', rok=2, grupa=3) \n",
    "        >>> Fortran = Student(album=654321, nazwisko='Fortran', kierunek='Informatyka Stosowana', rok=1, grupa=4) \n",
    "* `self.db`: zmienna trzymająca listę krotek `(instancja_klasy_Student)`, będzie to zmienna, która będzie pustą listą przy tworzeniu bazy danych; getter/setter\n",
    "        >>> is.get_db()\n",
    "        []     \n",
    "* `BazaDanychAB.dodaj_studenta(instancja_klasy_Student)`: funkcja umieszczająca studenta wliście `self.db`, ale w taki sposób, że lista będzie posortowana względem pola `album` instancji `Student`. \n",
    "*Uwaga - poniższe reprezentacje obiektów `Student` w poniższych przykładach listy `self.db` są dowolne i zależą od tego jak państwo okodują `__repr__`*.\n",
    "        >>> is.dodaj_studenta(Fortran)\n",
    "        >>> is.get_db()\n",
    "        ['Fortran']\n",
    "        >>> is.dodaj_studenta(Asembler)\n",
    "        >>> is.get_db()\n",
    "        ['Asembler', 'Fortran']\n",
    "        >>> is.dodaj_studenta(Cobol)\n",
    "        >>> is.get_db()\n",
    "        ['Asembler', 'Fortran', 'Cobol']      \n",
    "* `BazaDanychAB._student_idx(album)`: funkcja pomocnicza - wyszukuje i zwraca indeks w liście `self.db`, pod którym zlokalizujemy studenta o żądanym numerze albumu lub `None` gdy nie ma takiego wpisu. Należy przeszukać posortowaną bazę danych, proszę zatem użyć *dziel i zwyciężaj*.\n",
    "* `BazaDanychAB.student(album)`: wyszukuje i zwraca informacje o studencie posiadającym żądany nr albumu - proszę wykorzystać odwołanie do `BazaDanychAB._student_idx(album)`.\n",
    "* `BazaDanychAB.usun_studenta(album)`: wyszukuje i usuwa rekord ze studentem o danym numerze albumu; jeżeli takiego studenta nie ma to podnosi odpowiedni wyjatek lub zwraca `None`.\n",
    "* niezbędne gettery i settery \n",
    "* `__repr__` oraz `__str__`\n",
    "* inne, niezbędne w/g Państwa funkcje pomocnicze (powinny zaczynać się od podłogi `_nazwa_funkcji`)\n",
    " \n",
    "Testy proszę przeprowadzić dla 100 studentów. Proszę oczywiście wykorzystać moduł `random`. Najlepiej napisać sobie funkcję pomocniczą `generuj_studenta()`. \n",
    "\n",
    "Proszę pamiętać o PEP8 oraz docstringu."
   ]
  },
  {
   "cell_type": "code",
   "execution_count": 83,
   "metadata": {},
   "outputs": [],
   "source": [
    "import random\n",
    "\n",
    "class Student:\n",
    "    def __init__(self, album, nazwisko, kierunek, rok, grupa):\n",
    "        self.album = album\n",
    "        self.nazwisko = nazwisko\n",
    "        self.kierunek = kierunek\n",
    "        self.rok = rok\n",
    "        self.grupa = grupa\n",
    "\n",
    "    def __repr__(self):\n",
    "        return f\"Student(album={self.album}, nazwisko='{self.nazwisko}', kierunek='{self.kierunek}', rok={self.rok}, grupa={self.grupa})\"\n",
    "\n",
    "    def __str__(self):\n",
    "        return f\"{self.nazwisko}, nr albumu {self.album}, {self.kierunek}, {self.rok} rok, grupa {self.grupa}\"\n",
    "\n",
    "    def get_album(self):\n",
    "        return self.album\n",
    "\n",
    "    def set_album(self, new_album):\n",
    "        self.album = new_album\n",
    "\n",
    "    def get_nazwisko(self):\n",
    "        return self.nazwisko\n",
    "\n",
    "    def set_nazwisko(self, new_nazwisko):\n",
    "        self.nazwisko = new_nazwisko\n",
    "\n",
    "    def get_kierunek(self):\n",
    "        return self.kierunek\n",
    "\n",
    "    def set_kierunek(self, new_kierunek):\n",
    "        self.kierunek = new_kierunek\n",
    "\n",
    "    def get_rok(self):\n",
    "        return self.rok\n",
    "\n",
    "    def set_rok(self, new_rok):\n",
    "        self.rok = new_rok\n",
    "\n",
    "    def get_grupa(self):\n",
    "        return self.grupa\n",
    "\n",
    "    def set_grupa(self, new_grupa):\n",
    "        self.grupa = new_grupa\n",
    "\n",
    "class BazaDanychAB:\n",
    "    def __init__(self):\n",
    "        self.db = []\n",
    "\n",
    "    def __repr__(self):\n",
    "        return f\"BazaDanychAB(db={self.db})\"\n",
    "\n",
    "    def __str__(self):\n",
    "        return f\"Baza danych z {len(self.db)} studentami\"\n",
    "\n",
    "    def get_db(self):\n",
    "        return self.db\n",
    "\n",
    "    def set_db(self, new_db):\n",
    "        self.db = new_db\n",
    "\n",
    "    def dodaj_studenta(self, student):\n",
    "        i = 0\n",
    "        while i < len(self.db) and student.album > self.db[i].album:\n",
    "            i += 1\n",
    "        self.db.insert(i, student)\n",
    "\n",
    "    def _student_idx(self, album):\n",
    "        left = 0\n",
    "        right = len(self.db) - 1\n",
    "        while left <= right:\n",
    "            if self.db[left].get_album() == album:\n",
    "                return left\n",
    "            left += 1\n",
    "        return None\n",
    "\n",
    "    def student(self, album):\n",
    "        idx = self._student_idx(album)\n",
    "        if idx is not None:\n",
    "            return self.db[idx]\n",
    "        else:\n",
    "            return None\n",
    "\n",
    "    def usun_studenta(self, album):\n",
    "        idx = self._student_idx(album)\n",
    "        if idx is not None:\n",
    "            return self.db.pop(idx)\n",
    "        else:\n",
    "            return None\n",
    "\n",
    "def generuj_studenta():\n",
    "    album = random.randint(100000, 999999)\n",
    "    nazwisko = random.choices([\"Kowalski\", \"Nowak\", \"Duda\", \"Pawlak\", \"Kwiatkowski\", \"Górski\", \"Lewandowski\", \"Wójcik\", \"Kozłowski\", \"Mazur\"])\n",
    "    kierunek = random.choice([\"Informatyka Stosowana\", \"Matematyka\", \"Fizyka\", \"Chemia\", \"Informatyka\"])\n",
    "    rok = random.randint(1, 4)\n",
    "    grupa = random.randint(1, 6)\n",
    "    \n",
    "    return Student(album=album, nazwisko=nazwisko, kierunek=kierunek, rok=rok, grupa=grupa)"
   ]
  },
  {
   "cell_type": "code",
   "execution_count": 84,
   "metadata": {},
   "outputs": [],
   "source": [
    "Baza = BazaDanychAB()\n",
    "\n",
    "for _ in range(100):\n",
    "    student = generuj_studenta()\n",
    "    Baza.dodaj_studenta(student)\n",
    "\n"
   ]
  },
  {
   "cell_type": "code",
   "execution_count": 98,
   "metadata": {},
   "outputs": [
    {
     "data": {
      "text/plain": [
       "BazaDanychAB(db=[Student(album=127297, nazwisko='['Mazur']', kierunek='Matematyka', rok=3, grupa=5), Student(album=128092, nazwisko='['Kozłowski']', kierunek='Informatyka Stosowana', rok=4, grupa=1), Student(album=130896, nazwisko='['Nowak']', kierunek='Matematyka', rok=2, grupa=4), Student(album=152452, nazwisko='['Mazur']', kierunek='Informatyka', rok=2, grupa=6), Student(album=152806, nazwisko='['Duda']', kierunek='Fizyka', rok=2, grupa=1), Student(album=182304, nazwisko='['Górski']', kierunek='Informatyka Stosowana', rok=2, grupa=4), Student(album=190478, nazwisko='['Duda']', kierunek='Chemia', rok=1, grupa=4), Student(album=195065, nazwisko='['Mazur']', kierunek='Informatyka Stosowana', rok=1, grupa=4), Student(album=224733, nazwisko='['Kwiatkowski']', kierunek='Chemia', rok=2, grupa=5), Student(album=228774, nazwisko='['Wójcik']', kierunek='Chemia', rok=2, grupa=4), Student(album=239350, nazwisko='['Mazur']', kierunek='Matematyka', rok=2, grupa=5), Student(album=251685, nazwisko='['Nowak']', kierunek='Informatyka', rok=2, grupa=5), Student(album=259320, nazwisko='['Wójcik']', kierunek='Informatyka', rok=4, grupa=5), Student(album=267640, nazwisko='['Mazur']', kierunek='Matematyka', rok=3, grupa=6), Student(album=271801, nazwisko='['Duda']', kierunek='Informatyka Stosowana', rok=3, grupa=4), Student(album=275976, nazwisko='['Mazur']', kierunek='Informatyka Stosowana', rok=3, grupa=6), Student(album=330481, nazwisko='['Lewandowski']', kierunek='Matematyka', rok=3, grupa=3), Student(album=338119, nazwisko='['Wójcik']', kierunek='Informatyka Stosowana', rok=4, grupa=6), Student(album=351977, nazwisko='['Kowalski']', kierunek='Matematyka', rok=4, grupa=1), Student(album=353977, nazwisko='['Wójcik']', kierunek='Informatyka', rok=1, grupa=1), Student(album=355520, nazwisko='['Pawlak']', kierunek='Informatyka Stosowana', rok=4, grupa=2), Student(album=358369, nazwisko='['Mazur']', kierunek='Chemia', rok=1, grupa=1), Student(album=372162, nazwisko='['Mazur']', kierunek='Informatyka Stosowana', rok=1, grupa=4), Student(album=372753, nazwisko='['Mazur']', kierunek='Informatyka Stosowana', rok=2, grupa=6), Student(album=373982, nazwisko='['Lewandowski']', kierunek='Fizyka', rok=1, grupa=1), Student(album=400965, nazwisko='['Lewandowski']', kierunek='Informatyka', rok=4, grupa=2), Student(album=408384, nazwisko='['Pawlak']', kierunek='Informatyka', rok=2, grupa=3), Student(album=410151, nazwisko='['Górski']', kierunek='Informatyka', rok=1, grupa=1), Student(album=410261, nazwisko='['Górski']', kierunek='Informatyka Stosowana', rok=2, grupa=4), Student(album=415893, nazwisko='['Lewandowski']', kierunek='Chemia', rok=3, grupa=2), Student(album=440295, nazwisko='['Lewandowski']', kierunek='Chemia', rok=1, grupa=3), Student(album=453115, nazwisko='['Pawlak']', kierunek='Chemia', rok=4, grupa=5), Student(album=477905, nazwisko='['Kozłowski']', kierunek='Informatyka', rok=2, grupa=2), Student(album=478402, nazwisko='['Lewandowski']', kierunek='Informatyka Stosowana', rok=3, grupa=5), Student(album=483785, nazwisko='['Górski']', kierunek='Informatyka', rok=2, grupa=2), Student(album=486346, nazwisko='['Mazur']', kierunek='Chemia', rok=1, grupa=2), Student(album=495226, nazwisko='['Kowalski']', kierunek='Fizyka', rok=3, grupa=1), Student(album=501952, nazwisko='['Kwiatkowski']', kierunek='Matematyka', rok=4, grupa=6), Student(album=502390, nazwisko='['Kozłowski']', kierunek='Informatyka', rok=4, grupa=3), Student(album=530972, nazwisko='['Kwiatkowski']', kierunek='Informatyka', rok=3, grupa=6), Student(album=536509, nazwisko='['Mazur']', kierunek='Chemia', rok=2, grupa=1), Student(album=548592, nazwisko='['Mazur']', kierunek='Fizyka', rok=2, grupa=3), Student(album=549419, nazwisko='['Mazur']', kierunek='Chemia', rok=3, grupa=5), Student(album=569275, nazwisko='['Wójcik']', kierunek='Chemia', rok=3, grupa=6), Student(album=576825, nazwisko='['Duda']', kierunek='Fizyka', rok=1, grupa=4), Student(album=605828, nazwisko='['Kwiatkowski']', kierunek='Matematyka', rok=3, grupa=6), Student(album=610582, nazwisko='['Nowak']', kierunek='Fizyka', rok=3, grupa=1), Student(album=614260, nazwisko='['Kozłowski']', kierunek='Chemia', rok=1, grupa=6), Student(album=635286, nazwisko='['Wójcik']', kierunek='Fizyka', rok=1, grupa=1), Student(album=636788, nazwisko='['Kwiatkowski']', kierunek='Matematyka', rok=3, grupa=1), Student(album=650404, nazwisko='['Kowalski']', kierunek='Informatyka Stosowana', rok=3, grupa=3), Student(album=651818, nazwisko='['Górski']', kierunek='Chemia', rok=4, grupa=2), Student(album=655956, nazwisko='['Kowalski']', kierunek='Informatyka', rok=4, grupa=6), Student(album=657606, nazwisko='['Kwiatkowski']', kierunek='Fizyka', rok=3, grupa=4), Student(album=658521, nazwisko='['Duda']', kierunek='Matematyka', rok=1, grupa=6), Student(album=679561, nazwisko='['Górski']', kierunek='Informatyka', rok=4, grupa=1), Student(album=689073, nazwisko='['Kowalski']', kierunek='Chemia', rok=2, grupa=3), Student(album=701137, nazwisko='['Kozłowski']', kierunek='Chemia', rok=2, grupa=2), Student(album=702951, nazwisko='['Pawlak']', kierunek='Chemia', rok=2, grupa=5), Student(album=715455, nazwisko='['Kowalski']', kierunek='Fizyka', rok=4, grupa=6), Student(album=715549, nazwisko='['Duda']', kierunek='Chemia', rok=4, grupa=4), Student(album=719180, nazwisko='['Kowalski']', kierunek='Matematyka', rok=1, grupa=3), Student(album=728377, nazwisko='['Kowalski']', kierunek='Informatyka Stosowana', rok=4, grupa=4), Student(album=732258, nazwisko='['Pawlak']', kierunek='Matematyka', rok=2, grupa=3), Student(album=743424, nazwisko='['Wójcik']', kierunek='Matematyka', rok=1, grupa=4), Student(album=751514, nazwisko='['Duda']', kierunek='Matematyka', rok=2, grupa=2), Student(album=760343, nazwisko='['Lewandowski']', kierunek='Matematyka', rok=3, grupa=6), Student(album=763488, nazwisko='['Nowak']', kierunek='Informatyka', rok=3, grupa=1), Student(album=767880, nazwisko='['Kwiatkowski']', kierunek='Fizyka', rok=2, grupa=5), Student(album=769854, nazwisko='['Górski']', kierunek='Informatyka', rok=1, grupa=5), Student(album=783581, nazwisko='['Duda']', kierunek='Fizyka', rok=2, grupa=4), Student(album=787532, nazwisko='['Nowak']', kierunek='Fizyka', rok=3, grupa=4), Student(album=789574, nazwisko='['Górski']', kierunek='Matematyka', rok=3, grupa=5), Student(album=791799, nazwisko='['Mazur']', kierunek='Informatyka', rok=1, grupa=4), Student(album=824853, nazwisko='['Lewandowski']', kierunek='Informatyka Stosowana', rok=4, grupa=6), Student(album=829707, nazwisko='['Nowak']', kierunek='Informatyka', rok=3, grupa=6), Student(album=836304, nazwisko='['Kwiatkowski']', kierunek='Chemia', rok=1, grupa=4), Student(album=840863, nazwisko='['Lewandowski']', kierunek='Matematyka', rok=1, grupa=5), Student(album=853826, nazwisko='['Pawlak']', kierunek='Informatyka Stosowana', rok=4, grupa=4), Student(album=865277, nazwisko='['Duda']', kierunek='Matematyka', rok=1, grupa=3), Student(album=878555, nazwisko='['Wójcik']', kierunek='Matematyka', rok=4, grupa=2), Student(album=890331, nazwisko='['Kozłowski']', kierunek='Fizyka', rok=1, grupa=1), Student(album=913821, nazwisko='['Nowak']', kierunek='Matematyka', rok=1, grupa=4), Student(album=918626, nazwisko='['Kozłowski']', kierunek='Informatyka Stosowana', rok=4, grupa=6), Student(album=927102, nazwisko='['Kozłowski']', kierunek='Informatyka Stosowana', rok=2, grupa=1), Student(album=928858, nazwisko='['Kozłowski']', kierunek='Fizyka', rok=1, grupa=5), Student(album=934835, nazwisko='['Wójcik']', kierunek='Fizyka', rok=2, grupa=6), Student(album=935358, nazwisko='['Kowalski']', kierunek='Chemia', rok=3, grupa=4), Student(album=938446, nazwisko='['Wójcik']', kierunek='Informatyka Stosowana', rok=4, grupa=3), Student(album=943373, nazwisko='['Kozłowski']', kierunek='Chemia', rok=3, grupa=2), Student(album=945568, nazwisko='['Mazur']', kierunek='Fizyka', rok=1, grupa=3), Student(album=950331, nazwisko='['Mazur']', kierunek='Informatyka', rok=2, grupa=4), Student(album=965414, nazwisko='['Kozłowski']', kierunek='Matematyka', rok=1, grupa=3), Student(album=968007, nazwisko='['Lewandowski']', kierunek='Informatyka Stosowana', rok=4, grupa=5), Student(album=977332, nazwisko='['Górski']', kierunek='Informatyka', rok=2, grupa=2), Student(album=977677, nazwisko='['Kowalski']', kierunek='Chemia', rok=2, grupa=5), Student(album=977765, nazwisko='['Kozłowski']', kierunek='Chemia', rok=1, grupa=4), Student(album=994814, nazwisko='['Kowalski']', kierunek='Chemia', rok=1, grupa=6)])"
      ]
     },
     "execution_count": 98,
     "metadata": {},
     "output_type": "execute_result"
    }
   ],
   "source": [
    "Baza\n",
    "#Baza.db[0].get_album()\n",
    "#print(Baza.student(121252))\n",
    "#Baza.usun_studenta(121252)\n",
    "#print(Baza.student(121252))\n",
    "#Baza.db[0].get_album()\n",
    "#Baza._student_idx(123487)\n",
    "#Baza.usun_studenta(123487)"
   ]
  },
  {
   "cell_type": "markdown",
   "metadata": {},
   "source": [
    "## Zad PD0802. Funkcje skrótu.\n",
    "\n",
    "Opracuj samodzielnie 3 funkcje skrótu, które będą przekształcać klucze w liczby naturalne od 0 do `m`:\n",
    "\n",
    "* dla typu `str`\n",
    "* dla typu `tuple`\n",
    "* dla typu `float`\n",
    "\n",
    "**Uwaga:** prosze zaproponować inną funkcję skrótu dla `str` od tej z wykładu "
   ]
  },
  {
   "cell_type": "code",
   "execution_count": 104,
   "metadata": {},
   "outputs": [],
   "source": [
    "def str_hash(key, m):\n",
    "    h = sum(ord(c) for c in key)\n",
    "    return h % m"
   ]
  },
  {
   "cell_type": "code",
   "execution_count": 105,
   "metadata": {},
   "outputs": [],
   "source": [
    "def tuple_hash(key, m):\n",
    "    h = sum(hash(x) for x in key)\n",
    "    return h % m"
   ]
  },
  {
   "cell_type": "code",
   "execution_count": 106,
   "metadata": {},
   "outputs": [],
   "source": [
    "def float_hash(key, m):\n",
    "    a = 0.6180339887\n",
    "    h = int(m * ((key * a) % 1))\n",
    "    return h % m"
   ]
  }
 ],
 "metadata": {
  "kernelspec": {
   "display_name": "Python 3 (ipykernel)",
   "language": "python",
   "name": "python3"
  },
  "language_info": {
   "codemirror_mode": {
    "name": "ipython",
    "version": 3
   },
   "file_extension": ".py",
   "mimetype": "text/x-python",
   "name": "python",
   "nbconvert_exporter": "python",
   "pygments_lexer": "ipython3",
   "version": "3.9.5"
  }
 },
 "nbformat": 4,
 "nbformat_minor": 2
}
