{
 "cells": [
  {
   "cell_type": "markdown",
   "id": "41a6be22",
   "metadata": {},
   "source": [
    "# AiP,  2021-2022\n",
    "## Kolokwium nr 1\n",
    "\n",
    "**Reguły**\n",
    "\n",
    "* prace są samodzielne, na zasadzie **open book, open notes**, co oznacza, że można korzystać ze swoich własnych kodów, wykładu, ćwiczeń, książek, manuali, dokumentacji, kursów, itp…\n",
    "* ...ale **nie wolno korzystać z cudzych kodów na zasadzie copy-paste** \n",
    "    - znaleziona w czasie oceniania kopia kodu z internetu (tak, my też znamy google) otrzymuje 0 punktów\n",
    "    - kopie kodu u różnych studentów to też 0 punktów\n",
    "\n",
    "**Uwaga**\n",
    "\n",
    "   >Warto testować swoje kody. Brak testów to pierwszy krok do słabej / niezadowalającej oceny z kolokwium. Testować znaczy - po napisaniu programu (kodu) należy go kilkukrotnie uruchomić dla kilku różnych danych wejściowych.\n",
    "\n",
    "**Uwaga 2**\n",
    "   >Warto używać porządnych nazw zmiennych. "
   ]
  },
  {
   "cell_type": "code",
   "execution_count": null,
   "id": "f3ea165d",
   "metadata": {},
   "outputs": [],
   "source": []
  },
  {
   "cell_type": "markdown",
   "id": "96f98c2d",
   "metadata": {},
   "source": [
    "## Zadanie 1. Trójkąt [33 pkt]\n",
    "Zaimplementuj klasę `Trojkat`, opisującą trójkąty (5 pkt). \n",
    "\n",
    "Argumenty\n",
    "* lista boków\n",
    "\n",
    "Funkcjonalność\n",
    "* get_boki (1 pkt)\n",
    "* set_boki: sprawdzanie czy lista 3 liczb większych od 0 oraz czy da się utworzyć trójkąt z podanych liczb (3 pkt)\n",
    "* docstring w ulubionym stylu Numpy/Pydoc/Google (3 pkt)\n",
    "* pole (3 pkt)\n",
    "* obwód (3 pkt)\n",
    "* wysokość (3 pkt)\n",
    "* obliczanie kątów w trójkącie (import math) (3 pkt)\n",
    "* `mniejszy_od` (lub `<`) bazując na obwodzie (3 pkt)\n",
    "\n",
    "Test\n",
    "* 3 konkretne, różne instancje dla każdej klasy potomnej, prosze przejrzeć (uruchomić, przetestować) wszystkie funkcje które państwo programują (3x1pkt)\n",
    "* porównać każdy trójkąt z każym z powyższych instancji (3 pkt)"
   ]
  },
  {
   "cell_type": "code",
   "execution_count": 99,
   "id": "6f9a4713",
   "metadata": {},
   "outputs": [],
   "source": [
    "class Trojkat():\n",
    "    '''Obiekt Trojkat opisuje nam wlasnosci trojkatow.\n",
    "\n",
    "    Args:\n",
    "        lista_bokow (list): trzyma dlugosci bokow trojkata\n",
    "\n",
    "    Attributes:\n",
    "        lista_bokow: tu przechowujemy informacje o dlugosci bokow\n",
    "        \n",
    "    Methods:\n",
    "        pole: oblicza pole trojkata\n",
    "        obwod: oblicz obowd trojkata\n",
    "        __lt__: sprawdza czy trojkata jest mniejszy od innego trojkata (na podstawie wilekosci obwodu)\n",
    "        wysokosc: oblicz wysokosc trojkata\n",
    "        katy: oblicz katy trojkata\n",
    "    '''\n",
    "    def __init__(self,lista_bokow):\n",
    "        self.set_boki(lista_bokow)\n",
    "        \n",
    "    def get_boki(self):\n",
    "        return self.lista_bokow\n",
    "    \n",
    "    def set_boki(self, var):\n",
    "        assert isinstance(var, list), 'Lista bokow muszą być listą'\n",
    "        assert len(var) == 3, 'W liscie maja byc 3 boki'\n",
    "        for i in var:\n",
    "            assert isinstance(i, (int,float)), 'W liście muszą byc INT lub FlOAT'\n",
    "        self.lista_bokow = var\n",
    "        assert self.lista_bokow[0] + self.lista_bokow[1] > self.lista_bokow[2] and self.lista_bokow[0] + self.lista_bokow[2] > self.lista_bokow[1] and self.lista_bokow[1] + self.lista_bokow[2] > self.lista_bokow[0], \" nie mozna zbudowac trojkata\"\n",
    "        \n",
    "    def obwod(self):\n",
    "        return sum(self.get_boki())\n",
    "    \n",
    "    def pole(self):\n",
    "        from math import sqrt\n",
    "        p = 0.5 * (self.lista_bokow[0] + self.lista_bokow[1] + self.lista_bokow[2]) \n",
    "        return sqrt(p * (p - self.lista_bokow[0]) * (p - self.lista_bokow[1]) * (p - self.lista_bokow[2]))\n",
    "    \n",
    "    def wysokosc(self):\n",
    "        pass\n",
    "    \n",
    "    def katy(self):\n",
    "        pass\n",
    "    \n",
    "    def __lt__(self, other):\n",
    "        return self.obwod() < other.obwod()\n",
    "    \n",
    "    def __str__(self):\n",
    "        return f'{__class__.__name__}, lista bokow: {self.get_boki()}'\n",
    "        \n",
    "    def __repr__(self):\n",
    "        return str(self)"
   ]
  },
  {
   "cell_type": "code",
   "execution_count": 100,
   "id": "d4cc6e36",
   "metadata": {},
   "outputs": [
    {
     "name": "stdout",
     "output_type": "stream",
     "text": [
      "Trojkat, lista bokow: [3, 2, 3]\n"
     ]
    },
    {
     "data": {
      "text/plain": [
       "(8, True, 2.8284271247461903)"
      ]
     },
     "execution_count": 100,
     "metadata": {},
     "output_type": "execute_result"
    }
   ],
   "source": [
    "t_1 = Trojkat([3,2,3])\n",
    "t_2 = Trojkat([5,3,4])\n",
    "print(t_1)\n",
    "t_1.obwod(),t_1 < t_2,t_1.pole()"
   ]
  },
  {
   "cell_type": "markdown",
   "id": "a58bcccc",
   "metadata": {},
   "source": [
    "## Zadanie 2. Dziedziczenie [33 pkt]\n",
    "\n",
    "Zaimplementuj i przetestuj hierarchię składającą się z następujących klas: `Student` <- `Stypendysta`. Poszczególne klasy zawierają następujące pola:\n",
    "\n",
    "* `Student`: imię, nazwisko, pesel, kierunek oraz numer albumu [10 pkt]\n",
    "* `Stypendysta`: dziedziczy po klasie `Student`, rozszerza ją o kwotę stypendium [10 pkt]\n",
    "\n",
    "Punktacja: \n",
    "* gettery i settery (w punktacji klas)\n",
    "* `__repr__`, `__str__` (w punktacji klas)\n",
    "* docstring w jednym z 3 styli z PD (2 pkt), zwykła linijka tekstu nie będzie punktowana\n",
    "* przynajmniej 2 instancje dla każdej klasy (2 pkt)\n",
    "* ostatnie (5 punktów) można uzyskać, gdy numer albumu będzie automatycznie generowany w klasie `Student` w oparciu o *atrybut klasy* a nie podawany jako argument w czasie instancjonowania. "
   ]
  },
  {
   "cell_type": "code",
   "execution_count": 1,
   "id": "1532b14e",
   "metadata": {},
   "outputs": [
    {
     "name": "stdout",
     "output_type": "stream",
     "text": [
      "Student, imie: Michal, nazwisko: Piatek, pesel: 21344,    kierunek:is, numer albumu:22\n"
     ]
    }
   ],
   "source": [
    "class Student():\n",
    "    '''Obiekt Student opisuje nam wlasnosci studentów.\n",
    "\n",
    "    Args:\n",
    "        imie (str): trzyma imie studenta \n",
    "        nazwisko (str): trzyma nazwisko Studenta\n",
    "    \n",
    "\n",
    "    Attributes:\n",
    "        imie: tu przechowujemy informacje o imieniu\n",
    "        nazwisko: tu przechowujemy informacje o nazwisku\n",
    "        pesel: tu przechowujemy informacje o peselu\n",
    "        kierunku: tu przechowujemy informacje o kierunku\n",
    "        numer albumu: tu przechowujemy informacje o numerze albumu\n",
    "    '''\n",
    "    \n",
    "    def __init__(self,imie,nazwisko,pesel,kierunek,numer_albumu):\n",
    "        self.set_imie(imie)\n",
    "        self.set_nazwisko(nazwisko)\n",
    "        self.set_pesel(pesel)\n",
    "        self.set_kierunek(kierunek)\n",
    "        self.set_numer_albumu(numer_albumu)\n",
    "    \n",
    "    def get_imie(self):\n",
    "        return self.imie\n",
    "    \n",
    "    def get_nazwisko(self):\n",
    "        return self.nazwisko\n",
    "    \n",
    "    def get_pesel(self):\n",
    "        return self.pesel\n",
    "    \n",
    "    def get_kierunek(self):\n",
    "        return self.kierunek\n",
    "    \n",
    "    def get_numer_albumu(self):\n",
    "        return self.numer_albumu\n",
    "    \n",
    "    def set_imie(self, var):\n",
    "        assert isinstance(var, str), 'Imie musi być STR'\n",
    "        self.imie = var\n",
    "        \n",
    "    def set_nazwisko(self, var):\n",
    "        assert isinstance(var, str), 'Nazwisko musi być STR'\n",
    "        self.nazwisko = var\n",
    "        \n",
    "    def set_pesel(self, var):\n",
    "        assert isinstance(var, int), 'pesel musi być INT'\n",
    "        self.pesel = var\n",
    "        \n",
    "    def set_kierunek(self, var):\n",
    "        assert isinstance(var, str), 'Kierunek musi być STR'\n",
    "        self.kierunek = var\n",
    "        \n",
    "    def set_numer_albumu(self, var):\n",
    "        assert isinstance(var, int), 'Numer albumu musi być INT'\n",
    "        self.numer_albumu = var\n",
    "        \n",
    "    def __str__(self):\n",
    "        return f'{__class__.__name__}, imie: {self.get_imie()}, nazwisko: {self.get_nazwisko()}, pesel: {self.get_pesel()},\\\n",
    "    kierunek:{self.get_kierunek()}, numer albumu:{self.get_numer_albumu()}'\n",
    "    \n",
    "    def __repr__(self):\n",
    "        return str(self)\n",
    "    \n",
    "Student_1 = Student('Michal','Piatek',21344,'is',22)\n",
    "print(Student_1)"
   ]
  },
  {
   "cell_type": "code",
   "execution_count": 2,
   "id": "6157b895",
   "metadata": {},
   "outputs": [
    {
     "name": "stdout",
     "output_type": "stream",
     "text": [
      "Stypendysta, imie: Michal, nazwisko: Piatek, pesel: 24141414,    kierunek:is, numer albumu:122, kwota stypendium:323\n"
     ]
    }
   ],
   "source": [
    "class Stypendysta(Student):\n",
    "    '''Obiekt Stypendysta opisuje nam wlasnosci stypendystow.\n",
    "\n",
    "    Args:\n",
    "        imie (str): trzyma imie Stypendysty\n",
    "        nazwisko (str): trzyma nazwisko Stypendysty\n",
    "        pesel (int): trzyma pesel Stypendysty\n",
    "        kierunek (str): trzyma kierunek Stypendysty\n",
    "        numer_albumu (int): trzyma numer albumu Stypendysty\n",
    "        kwota_stypendium (int): trzyma kwote stypendium Stypendysty\n",
    "\n",
    "    Attributes:\n",
    "        imie: tu przechowujemy informacje o imieniu\n",
    "        nazwisko: tu przechowujemy informacje o nazwisku\n",
    "        pesel: tu przechowujemy informacje o peselu\n",
    "        kierunku: tu przechowujemy informacje o kierunku\n",
    "        numer-albumu: tu przechowujemy informacje o numerze albumu\n",
    "        kwota_stypendium: tu przechowujemy informacje o kwocie stypendium\n",
    "    '''\n",
    "    def __init__(self,imie,nazwisko,pesel,kierunek,numer_albumu,kwota_stypendium):\n",
    "        super().__init__(imie,nazwisko,pesel,kierunek,numer_albumu)\n",
    "        self.set_kwota_stypendium(kwota_stypendium)\n",
    "        \n",
    "    def get_kwota_stypendium(self):\n",
    "        return self.kwota_stypendium\n",
    "    \n",
    "    def set_kwota_stypendium(self, var):\n",
    "        assert isinstance(var, int), 'Kwota stypendium musi być INT'\n",
    "        self.kwota_stypendium = var\n",
    "        \n",
    "    def __str__(self):\n",
    "        return f'{__class__.__name__}, imie: {self.get_imie()}, nazwisko: {self.get_nazwisko()}, pesel: {self.get_pesel()},\\\n",
    "    kierunek:{self.get_kierunek()}, numer albumu:{self.get_numer_albumu()}, kwota stypendium:{self.get_kwota_stypendium()}'\n",
    "    \n",
    "    def __repr__(self):\n",
    "        return str(self)\n",
    "    \n",
    "Stypendysta_1 = Stypendysta('Michal','Piatek',24141414,'is',122,323)\n",
    "print(Stypendysta_1)"
   ]
  },
  {
   "cell_type": "code",
   "execution_count": 3,
   "id": "be82fca5",
   "metadata": {},
   "outputs": [
    {
     "data": {
      "text/plain": [
       "24141414"
      ]
     },
     "execution_count": 3,
     "metadata": {},
     "output_type": "execute_result"
    }
   ],
   "source": [
    "Stypendysta_1.get_pesel()"
   ]
  },
  {
   "cell_type": "markdown",
   "id": "25803821",
   "metadata": {},
   "source": [
    "## Zadanie 3. Krata [34 pkt]\n",
    "Punkt kratowy, to punkt należący do układu kartezjańskiego, którego współrzędne są liczbami całkowitymi np: $(0, 0),(-1, 0),(2, 1), \\dots$\n",
    "\n",
    "Rozważmy koło o środku w początku układu współrzędnych i promieniu $r$. Niech $N(r)$ oznacza liczbę punktów o współrzędnych całkowitych (punktów kratowych) znajdujących się **wewnątrz koła**. $M(r)$ to liczba punktów które znajdują się dokładnie **na brzegu koła**. \n",
    "\n",
    "* zaprogramuj klasę, która przyjmuje w czasie instancjonowania 1 argument $r>0$ (2 pkt) oraz posiada możliwość obliczenia wartości $N(r)$ (7 pkt) oraz $M(r)$ (7 pkt); obowiązkowo: get, set (defensywnie), str, repr (4 pkt)\n",
    "* (6 pkt) podaj ile wynoszą $N(2), N(\\pi), N(13)$ i $M(2), M(\\pi), M(13)$\n",
    "* (2 pkt) docstrings, (2 pkt) PEP 8 \n",
    "* (4 pkt) jaka jest pesymistyczna asymptotyczna złożoność obliczeniowa \"duże O\" dla N(r) i M(r)?"
   ]
  },
  {
   "cell_type": "code",
   "execution_count": 94,
   "id": "843275c2",
   "metadata": {},
   "outputs": [],
   "source": [
    "class Kolo:\n",
    "    '''Obiekt Kolo opisuje nam wlasnosci kol.\n",
    "\n",
    "    Args:\n",
    "        promien (int): trzyma dlugosci promienia kola\n",
    "\n",
    "    Attributes:\n",
    "        promien: tu przechowujemy informacje o promieniu\n",
    "        \n",
    "    Methods:\n",
    "        pole: oblicza pole trojkata\n",
    "        obwod: oblicz obowd trojkata\n",
    "        __lt__: sprawdza czy trojkata jest mniejszy od innego trojkata (na podstawie wilekosci obwodu)\n",
    "        wysokosc: oblicz wysokosc trojkata\n",
    "        katy: oblicz katy trojkata'''\n",
    "    def __init__(self,promien,punkt_kratowy):\n",
    "        self.set_promien(promien)\n",
    "        self.set_punkt_kratowy(punkt_kratowy)\n",
    "        \n",
    "    def get_promien(self):\n",
    "        return self.promien\n",
    "    \n",
    "    def get_punkt_kratowy(self):\n",
    "        return self.punkt_kratowy\n",
    "    \n",
    "    def set_promien(self,var):\n",
    "        assert isinstance(var, int), 'promien musi być INT'\n",
    "        assert var > 0 \n",
    "        self.promien = var\n",
    "        \n",
    "    def set_punkt_kratowy(self,var):\n",
    "        assert isinstance(var, tuple), 'Punkt kratowy musi być Tuple'\n",
    "        self.punkt_kratowy = var\n",
    "        \n",
    "    def __str__(self):\n",
    "        return f'{__class__.__name__},  promien: {self.get_promien()}, punkt kratowy: {self.get_punkt_kratowy()}'\n",
    "    \n",
    "    def __repr__(self):\n",
    "        return str(self)"
   ]
  },
  {
   "cell_type": "code",
   "execution_count": 101,
   "id": "502a9248",
   "metadata": {},
   "outputs": [],
   "source": [
    "k_1 = Kolo(3,(1,2))"
   ]
  },
  {
   "cell_type": "code",
   "execution_count": null,
   "id": "a9261575",
   "metadata": {},
   "outputs": [],
   "source": []
  }
 ],
 "metadata": {
  "kernelspec": {
   "display_name": "Python 3 (ipykernel)",
   "language": "python",
   "name": "python3"
  },
  "language_info": {
   "codemirror_mode": {
    "name": "ipython",
    "version": 3
   },
   "file_extension": ".py",
   "mimetype": "text/x-python",
   "name": "python",
   "nbconvert_exporter": "python",
   "pygments_lexer": "ipython3",
   "version": "3.9.5"
  }
 },
 "nbformat": 4,
 "nbformat_minor": 5
}
