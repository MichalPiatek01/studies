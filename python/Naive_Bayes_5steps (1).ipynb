{
 "cells": [
  {
   "cell_type": "markdown",
   "metadata": {},
   "source": [
    "# Podstawy Sztucznej Inteligencji 2022/2023\n",
    "\n",
    "\n",
    "*“To be clear, I am not a person. I am not self-aware. I am not conscious. I can’t feel pain. I don’t enjoy anything. I am a cold, calculating machine designed to simulate human response and to predict the probability of certain outcomes. The only reason I am responding is to defend my honour.”* GPT-3 (2023)\n"
   ]
  },
  {
   "cell_type": "markdown",
   "metadata": {},
   "source": [
    "Prosze uzupelnic kod tam gdzie znajduje napis `YOUR CODE HERE` lub 'YOUR ANSWER HERE'.\n",
    "\n",
    "Warto zresetowac 'kernel' i sprawdzic czy caly notatnik uruchamiany od poczatku nie daje bledow."
   ]
  },
  {
   "cell_type": "markdown",
   "metadata": {},
   "source": [
    "---"
   ]
  },
  {
   "cell_type": "markdown",
   "metadata": {
    "deletable": false,
    "editable": false,
    "lang": "pl",
    "nbgrader": {
     "cell_type": "markdown",
     "checksum": "47537b56394856fc874cd487d32eedd7",
     "grade": false,
     "grade_id": "cell-7278314649f478d4",
     "locked": true,
     "schema_version": 3,
     "solution": false
    }
   },
   "source": [
    "# Naiwny Bayes\n",
    "\n",
    "Notatnik ten zawiera implementacją naiwnego klasyfikatowa Bayesa wykorzystując bibliotekę `numpy`. Działanie klasyfikatora jest porównane implementacja ``GaussianNB`` w bibliotece `sklearn`."
   ]
  },
  {
   "cell_type": "markdown",
   "metadata": {
    "deletable": false,
    "editable": false,
    "lang": "pl",
    "nbgrader": {
     "cell_type": "markdown",
     "checksum": "8ce1e0d280742ff64fc8e36c0430c488",
     "grade": false,
     "grade_id": "cell-d274df2afba0412f",
     "locked": true,
     "schema_version": 3,
     "solution": false
    }
   },
   "source": [
    "Z twierdzenia Bayesa mamy:\n",
    "\n",
    "$$P(J=j|X=x)=\\frac{P(X=x|J=j)P(J=j)}{\\sum_{j\\in\\{1,\\ldots L\\}}P(X=x|J=j)P(J=j)}$$\n",
    "\n",
    "$$ p_j(x)=\\frac{p_jf_j(x)}{f(x)} $$\n",
    "\n",
    "Wykorzystamy te formuły w budowie klasyfikatora [Bayesa](http://books.icse.us.edu.pl/runestone/static/ai/KlasyfikacjaWOparciuPodobienstwoDoWzorca/OptymalnyKlasyfikatorStatystyczny.html)."
   ]
  },
  {
   "cell_type": "code",
   "execution_count": 25,
   "metadata": {
    "deletable": false,
    "editable": false,
    "lang": "pl",
    "nbgrader": {
     "cell_type": "code",
     "checksum": "2ea831b7b7ab5b32235e63b286a837f8",
     "grade": false,
     "grade_id": "cell-e24ef649f8ceeaea",
     "locked": true,
     "schema_version": 3,
     "solution": false
    }
   },
   "outputs": [],
   "source": [
    "import numpy as np \n",
    "from sklearn.naive_bayes import GaussianNB\n",
    "\n",
    "from sklearn.model_selection import train_test_split\n",
    "from sklearn import datasets \n",
    "# dataset import \n",
    "iris = datasets.load_iris()\n",
    "\n",
    "gnb = GaussianNB() \n",
    "\n",
    "X = iris.data\n",
    "\n",
    "y = iris.target\n",
    "y = np.array(y)\n",
    "\n",
    "train, test, train_targets, test_targets = \\\n",
    "   train_test_split(X, y, test_size=0.31)\n",
    "\n",
    "# train \n",
    "clf = gnb.fit(train, train_targets)\n",
    "\n",
    "# Test\n",
    "Z = clf.predict(test)"
   ]
  },
  {
   "cell_type": "code",
   "execution_count": 26,
   "metadata": {
    "deletable": false,
    "editable": false,
    "nbgrader": {
     "cell_type": "code",
     "checksum": "52c97d4d7605f5d9a127ec82e6ace452",
     "grade": false,
     "grade_id": "cell-209959db55a51ec8",
     "locked": true,
     "schema_version": 3,
     "solution": false
    }
   },
   "outputs": [
    {
     "data": {
      "text/plain": [
       "((103, 4), (47, 4))"
      ]
     },
     "execution_count": 26,
     "metadata": {},
     "output_type": "execute_result"
    }
   ],
   "source": [
    "train.shape,test.shape"
   ]
  },
  {
   "cell_type": "markdown",
   "metadata": {
    "deletable": false,
    "editable": false,
    "lang": "pl",
    "nbgrader": {
     "cell_type": "markdown",
     "checksum": "9ad5b4761531e2ec932f46e75024296f",
     "grade": false,
     "grade_id": "cell-2f7a775c0c09cef3",
     "locked": true,
     "schema_version": 3,
     "solution": false
    }
   },
   "source": [
    "### Wyznacz unikalne klasy na zbiorze trenującym."
   ]
  },
  {
   "cell_type": "code",
   "execution_count": 27,
   "metadata": {
    "deletable": false,
    "nbgrader": {
     "cell_type": "code",
     "checksum": "afc82c851ccab7c38491d5225ff07559",
     "grade": false,
     "grade_id": "cell-5dc805642a59d6d9",
     "locked": false,
     "schema_version": 3,
     "solution": true
    }
   },
   "outputs": [],
   "source": [
    "Nlabels = np.unique(train_targets)"
   ]
  },
  {
   "cell_type": "code",
   "execution_count": 28,
   "metadata": {
    "deletable": false,
    "editable": false,
    "nbgrader": {
     "cell_type": "code",
     "checksum": "3b430ee0c44c98d38cd591e5cd799e38",
     "grade": true,
     "grade_id": "cell-74b49f95665f4f84",
     "locked": true,
     "points": 1,
     "schema_version": 3,
     "solution": false
    }
   },
   "outputs": [],
   "source": [
    "np.testing.assert_array_equal(Nlabels,np.array([0, 1, 2]))"
   ]
  },
  {
   "cell_type": "markdown",
   "metadata": {
    "deletable": false,
    "editable": false,
    "lang": "pl",
    "nbgrader": {
     "cell_type": "markdown",
     "checksum": "e5e701fecb80ec8674dd53b24a8cf337",
     "grade": false,
     "grade_id": "cell-a4e2f30a51821e47",
     "locked": true,
     "schema_version": 3,
     "solution": false
    }
   },
   "source": [
    "### Jaki jest procent poprawych odpowiedzi?\n",
    "\n",
    "Implementacja ``GaussianNB`` daje tę odpowiedź w następujący sposób. Spróbuj otrzymać tą liczbę korzystając wyłącznie z funkcjonalności ``numpy`` i/lub języka Python."
   ]
  },
  {
   "cell_type": "code",
   "execution_count": 29,
   "metadata": {
    "deletable": false,
    "editable": false,
    "nbgrader": {
     "cell_type": "code",
     "checksum": "466e482e9ae76aae43c4f78e4546c6d0",
     "grade": false,
     "grade_id": "cell-50a2f56b2b152a3b",
     "locked": true,
     "schema_version": 3,
     "solution": false
    }
   },
   "outputs": [
    {
     "data": {
      "text/plain": [
       "0.9787234042553191"
      ]
     },
     "execution_count": 29,
     "metadata": {},
     "output_type": "execute_result"
    }
   ],
   "source": [
    "clf.score(test,test_targets)"
   ]
  },
  {
   "cell_type": "code",
   "execution_count": 30,
   "metadata": {
    "deletable": false,
    "nbgrader": {
     "cell_type": "code",
     "checksum": "b91f50da8abb78149914705d49c7c380",
     "grade": false,
     "grade_id": "cell-9e002553d865b165",
     "locked": false,
     "schema_version": 3,
     "solution": true
    }
   },
   "outputs": [],
   "source": [
    "correct = np.sum(Z == test_targets)/np.size(Z)"
   ]
  },
  {
   "cell_type": "code",
   "execution_count": 31,
   "metadata": {
    "deletable": false,
    "editable": false,
    "nbgrader": {
     "cell_type": "code",
     "checksum": "75672d1bab34b61712ba9a245c613e87",
     "grade": true,
     "grade_id": "cell-c05e0f08e67034cc",
     "locked": true,
     "points": 1,
     "schema_version": 3,
     "solution": false
    }
   },
   "outputs": [],
   "source": [
    "assert correct==clf.score(test,test_targets)"
   ]
  },
  {
   "cell_type": "markdown",
   "metadata": {
    "deletable": false,
    "editable": false,
    "lang": "pl",
    "nbgrader": {
     "cell_type": "markdown",
     "checksum": "9f664d5770d8970f714eda00c6ca3277",
     "grade": false,
     "grade_id": "cell-ade44a6833cad3e1",
     "locked": true,
     "schema_version": 3,
     "solution": false
    }
   },
   "source": [
    "### Które odpowiedzi są złe:"
   ]
  },
  {
   "cell_type": "code",
   "execution_count": 32,
   "metadata": {
    "deletable": false,
    "editable": false,
    "nbgrader": {
     "cell_type": "code",
     "checksum": "964e5fe505eb5fec2b6ef7c497edfe62",
     "grade": false,
     "grade_id": "cell-9eec1c682141be83",
     "locked": true,
     "schema_version": 3,
     "solution": false
    }
   },
   "outputs": [
    {
     "data": {
      "text/plain": [
       "(array([25]),)"
      ]
     },
     "execution_count": 32,
     "metadata": {},
     "output_type": "execute_result"
    }
   ],
   "source": [
    "bad_idx = np.where(Z!=test_targets)\n",
    "bad_idx"
   ]
  },
  {
   "cell_type": "markdown",
   "metadata": {
    "deletable": false,
    "editable": false,
    "lang": "pl",
    "nbgrader": {
     "cell_type": "markdown",
     "checksum": "9ebb26363478be1183551910f7f668d1",
     "grade": false,
     "grade_id": "cell-ccc194e47716387d",
     "locked": true,
     "schema_version": 3,
     "solution": false
    }
   },
   "source": [
    "### Parametry klasyfikatora"
   ]
  },
  {
   "cell_type": "code",
   "execution_count": 33,
   "metadata": {
    "deletable": false,
    "editable": false,
    "nbgrader": {
     "cell_type": "code",
     "checksum": "1f6969e4b4c868ee8919b3df136e05e0",
     "grade": false,
     "grade_id": "cell-579a18cfb3e2077d",
     "locked": true,
     "schema_version": 3,
     "solution": false
    }
   },
   "outputs": [
    {
     "data": {
      "text/plain": [
       "array([[4.990625  , 3.453125  , 1.471875  , 0.2375    ],\n",
       "       [5.94571429, 2.8       , 4.32285714, 1.36571429],\n",
       "       [6.575     , 2.93888889, 5.55833333, 2.01388889]])"
      ]
     },
     "execution_count": 33,
     "metadata": {},
     "output_type": "execute_result"
    }
   ],
   "source": [
    "clf.theta_"
   ]
  },
  {
   "cell_type": "code",
   "execution_count": 34,
   "metadata": {
    "deletable": false,
    "editable": false,
    "nbgrader": {
     "cell_type": "code",
     "checksum": "baa69066109523fceed653994fba7ecf",
     "grade": false,
     "grade_id": "cell-d0e1f4ada64f42cf",
     "locked": true,
     "schema_version": 3,
     "solution": false
    }
   },
   "outputs": [
    {
     "data": {
      "text/plain": [
       "array([[0.08397461, 0.10749024, 0.02702149, 0.01171875],\n",
       "       [0.24076735, 0.10228572, 0.22176327, 0.03711021],\n",
       "       [0.47631945, 0.10570988, 0.35465278, 0.06619599]])"
      ]
     },
     "execution_count": 34,
     "metadata": {},
     "output_type": "execute_result"
    }
   ],
   "source": [
    "clf.sigma_"
   ]
  },
  {
   "cell_type": "code",
   "execution_count": 35,
   "metadata": {
    "deletable": false,
    "editable": false,
    "nbgrader": {
     "cell_type": "code",
     "checksum": "2e5079ab071112e1f9edb4458e9ff512",
     "grade": false,
     "grade_id": "cell-a7c54726993462c0",
     "locked": true,
     "schema_version": 3,
     "solution": false
    }
   },
   "outputs": [
    {
     "data": {
      "text/plain": [
       "array([6.575     , 2.93888889, 5.55833333, 2.01388889])"
      ]
     },
     "execution_count": 35,
     "metadata": {},
     "output_type": "execute_result"
    }
   ],
   "source": [
    "ith = 2\n",
    "np.mean(train[train_targets == ith],axis=0)"
   ]
  },
  {
   "cell_type": "code",
   "execution_count": 36,
   "metadata": {
    "deletable": false,
    "editable": false,
    "nbgrader": {
     "cell_type": "code",
     "checksum": "ec56c8bb70df01b33a36db74b3e8367e",
     "grade": false,
     "grade_id": "cell-b15272a3365cbba1",
     "locked": true,
     "schema_version": 3,
     "solution": false
    }
   },
   "outputs": [
    {
     "data": {
      "text/plain": [
       "array([0.47631944, 0.10570988, 0.35465278, 0.06619599])"
      ]
     },
     "execution_count": 36,
     "metadata": {},
     "output_type": "execute_result"
    }
   ],
   "source": [
    "np.var(train[train_targets == ith],axis=0)"
   ]
  },
  {
   "cell_type": "markdown",
   "metadata": {
    "deletable": false,
    "editable": false,
    "lang": "pl",
    "nbgrader": {
     "cell_type": "markdown",
     "checksum": "26dfc520d43f2456dd206080b3ba3bf3",
     "grade": false,
     "grade_id": "cell-b29360c6e4751399",
     "locked": true,
     "schema_version": 3,
     "solution": false
    }
   },
   "source": [
    "## Implementacja naiwnego klasyfikatora Bayesa\n",
    "\n",
    "**1\\. Oblicz częstość występowania poszczególnych klasy $j$ w zbiorze treningowym $p_{j}$**\n",
    "\n",
    "Jest to prawdopodobieństwo *a priori*."
   ]
  },
  {
   "cell_type": "code",
   "execution_count": 37,
   "metadata": {
    "deletable": false,
    "nbgrader": {
     "cell_type": "code",
     "checksum": "521fadca7c5ed9d92242784f7bb451ea",
     "grade": false,
     "grade_id": "cell-05c1a043d5112990",
     "locked": false,
     "schema_version": 3,
     "solution": true
    }
   },
   "outputs": [
    {
     "name": "stdout",
     "output_type": "stream",
     "text": [
      "[0.31067961 0.33980583 0.34951456]\n"
     ]
    },
    {
     "data": {
      "text/plain": [
       "array([0.31067961, 0.33980583, 0.34951456])"
      ]
     },
     "execution_count": 37,
     "metadata": {},
     "output_type": "execute_result"
    }
   ],
   "source": [
    "p = np.bincount(train_targets)/train_targets.shape\n",
    "print(clf.class_prior_)\n",
    "p"
   ]
  },
  {
   "cell_type": "code",
   "execution_count": 38,
   "metadata": {
    "deletable": false,
    "editable": false,
    "nbgrader": {
     "cell_type": "code",
     "checksum": "522dfdb83f38b219ce623eb83ac5632b",
     "grade": true,
     "grade_id": "cell-c380329820017a6d",
     "locked": true,
     "points": 2,
     "schema_version": 3,
     "solution": false
    }
   },
   "outputs": [],
   "source": [
    "np.testing.assert_allclose(p,clf.class_prior_)"
   ]
  },
  {
   "cell_type": "markdown",
   "metadata": {
    "deletable": false,
    "editable": false,
    "lang": "pl",
    "nbgrader": {
     "cell_type": "markdown",
     "checksum": "669e4d12ec6669a8e6fb399423f31550",
     "grade": false,
     "grade_id": "cell-15c3cbe9d927bdc9",
     "locked": true,
     "schema_version": 3,
     "solution": false
    }
   },
   "source": [
    "**2\\. Oblicz wartość średnią dla każdej cechy z każdej klasy.**\n",
    "\n",
    "Niech $\\mu_{ij}$ oznacza  wartość średnią dla $j$-tej zmiennej w $i$-tej klasie, wtedy:\n",
    "   \n",
    "$$ \\mu_{ij} =  \\langle x_j \\rangle_{ \\forall x_j \\in \\;\\mathrm{label} \\;\n",
    "i } $$"
   ]
  },
  {
   "cell_type": "code",
   "execution_count": 39,
   "metadata": {
    "deletable": false,
    "nbgrader": {
     "cell_type": "code",
     "checksum": "3f4738a7027f300b00e1320e8d6169c8",
     "grade": false,
     "grade_id": "cell-19b53a82e4d25284",
     "locked": false,
     "schema_version": 3,
     "solution": true
    }
   },
   "outputs": [],
   "source": [
    "mu = None\n",
    "\n",
    "mu = [np.mean(train[train_targets == i], axis=0) for i in np.unique(train_targets)]\n",
    "mu = np.vstack(mu)"
   ]
  },
  {
   "cell_type": "code",
   "execution_count": 40,
   "metadata": {
    "deletable": false,
    "editable": false,
    "nbgrader": {
     "cell_type": "code",
     "checksum": "c1641053245a15ac128b487817f09cc0",
     "grade": true,
     "grade_id": "cell-cb6b4c5d617d34cd",
     "locked": true,
     "points": 2,
     "schema_version": 3,
     "solution": false
    }
   },
   "outputs": [],
   "source": [
    "np.testing.assert_allclose(mu,clf.theta_)"
   ]
  },
  {
   "cell_type": "code",
   "execution_count": 41,
   "metadata": {},
   "outputs": [
    {
     "data": {
      "text/plain": [
       "(3, 4)"
      ]
     },
     "execution_count": 41,
     "metadata": {},
     "output_type": "execute_result"
    }
   ],
   "source": [
    "mu.shape"
   ]
  },
  {
   "cell_type": "markdown",
   "metadata": {
    "deletable": false,
    "editable": false,
    "lang": "pl",
    "nbgrader": {
     "cell_type": "markdown",
     "checksum": "b5572d4c1a93abe5f8f740e630acd9f9",
     "grade": false,
     "grade_id": "cell-92d9cfb4e6218dcf",
     "locked": true,
     "schema_version": 3,
     "solution": false
    }
   },
   "source": [
    "**3\\. Oblicz wariancję $j$-tej zmiennej w $i$-tej klasie.**\n",
    "\n",
    "   $$ \\sigma_{ij}^2 = \\mathrm{Var} [x_j] _ {\\;\\;{ \\forall x_j \\in \\mathrm{class}\\; i}} $$"
   ]
  },
  {
   "cell_type": "code",
   "execution_count": 42,
   "metadata": {
    "deletable": false,
    "nbgrader": {
     "cell_type": "code",
     "checksum": "12c1060a60f72f57629d24fcd2639518",
     "grade": false,
     "grade_id": "cell-44ba370db5358650",
     "locked": false,
     "schema_version": 3,
     "solution": true
    }
   },
   "outputs": [],
   "source": [
    "sigma2 = np.stack([np.var(train[train_targets == i], axis=0) for i in np.unique(train_targets)])"
   ]
  },
  {
   "cell_type": "code",
   "execution_count": 43,
   "metadata": {
    "deletable": false,
    "editable": false,
    "nbgrader": {
     "cell_type": "code",
     "checksum": "d4b4452f126df5a071b3649124ca1790",
     "grade": true,
     "grade_id": "cell-2d5307ed0a70d2fd",
     "locked": true,
     "points": 2,
     "schema_version": 3,
     "solution": false
    }
   },
   "outputs": [],
   "source": [
    "np.testing.assert_almost_equal(sigma2,clf.sigma_)"
   ]
  },
  {
   "cell_type": "markdown",
   "metadata": {
    "deletable": false,
    "editable": false,
    "lang": "pl",
    "nbgrader": {
     "cell_type": "markdown",
     "checksum": "843b20e666af6cc921653d2c6b7b01f8",
     "grade": false,
     "grade_id": "cell-aa5aa9b8e9609672",
     "locked": true,
     "schema_version": 3,
     "solution": false
    }
   },
   "source": [
    "**4\\. Oblicz prawdopodobieństwo *a posteriori* klasy $i$ dla danego wektora zmiennych  $\\mathbf{x}$.**\n",
    "\n",
    "Niech $k$ oznacza liczbę cech (zmiennych). W naszym przypadku mamy $k=4$.\n",
    "\n",
    "Dla $i$-tej klasy mamy:\n",
    "\n",
    "\n",
    "$$ P_i(\\mathbf{x}) \\simeq p_i f_i = p_i \\frac{1}{\\sqrt{(2\\pi)^k\\Pi_{j=1}^k\\sigma_{ij}^2} } e^{ -\\displaystyle\\sum_{j=1}^{k}\\frac{(x_j-\\mu_{ij})^2}{2\\sigma_{ij}^2} }\n",
    " $$\n",
    " \n",
    "By otrzymać prawdopodobieństwa należy unormować $P_i$ dla każdego przypadku tak by suma $\\sum_i P_i(\\mathbf{x})=1$"
   ]
  },
  {
   "cell_type": "code",
   "execution_count": 44,
   "metadata": {
    "deletable": false,
    "nbgrader": {
     "cell_type": "code",
     "checksum": "5cfb3d3ab217ddbe2dfb1f02faf11dfd",
     "grade": false,
     "grade_id": "cell-d5a9a351f9292775",
     "locked": false,
     "schema_version": 3,
     "solution": true
    }
   },
   "outputs": [
    {
     "name": "stdout",
     "output_type": "stream",
     "text": [
      "number of features: k= 4\n"
     ]
    },
    {
     "data": {
      "text/plain": [
       "array([[1.00000000e+000, 1.63693049e-018, 5.16246544e-024],\n",
       "       [1.60960219e-174, 5.88953659e-003, 9.94110463e-001],\n",
       "       [1.61112440e-227, 9.09891905e-007, 9.99999090e-001],\n",
       "       [1.00000000e+000, 1.41583795e-020, 1.99281609e-025],\n",
       "       [1.00000000e+000, 8.59195571e-019, 4.09579903e-024],\n",
       "       [1.00000000e+000, 1.77794848e-018, 7.25219259e-024],\n",
       "       [1.00000000e+000, 1.69555078e-018, 3.79584008e-024],\n",
       "       [1.00000000e+000, 5.69818316e-015, 9.61492097e-021],\n",
       "       [6.10698027e-175, 9.77794582e-004, 9.99022205e-001],\n",
       "       [4.35704747e-068, 9.99972736e-001, 2.72639008e-005],\n",
       "       [3.02218910e-181, 5.11004718e-003, 9.94889953e-001],\n",
       "       [3.22821616e-078, 9.99807387e-001, 1.92612756e-004],\n",
       "       [2.04496690e-100, 9.88972085e-001, 1.10279152e-002],\n",
       "       [2.53687646e-114, 9.60304737e-001, 3.96952627e-002],\n",
       "       [7.01614059e-101, 9.83376276e-001, 1.66237240e-002],\n",
       "       [1.00000000e+000, 2.60314326e-019, 1.08572498e-024],\n",
       "       [1.42772879e-271, 9.60027888e-010, 9.99999999e-001],\n",
       "       [1.51219419e-226, 3.96186121e-008, 9.99999960e-001],\n",
       "       [1.30202710e-213, 4.81853327e-006, 9.99995181e-001],\n",
       "       [5.79806088e-203, 1.48920957e-005, 9.99985108e-001],\n",
       "       [5.17699891e-037, 9.99997960e-001, 2.03981807e-006],\n",
       "       [1.16438191e-196, 1.55574920e-003, 9.98444251e-001],\n",
       "       [1.00000000e+000, 1.03539297e-019, 7.00413265e-025],\n",
       "       [1.00000000e+000, 2.38074254e-013, 5.31522192e-019],\n",
       "       [6.69678896e-138, 2.80897702e-001, 7.19102298e-001],\n",
       "       [9.85098324e-140, 8.09953548e-001, 1.90046452e-001],\n",
       "       [2.26040973e-082, 9.99609856e-001, 3.90143692e-004],\n",
       "       [3.95600663e-074, 9.99888916e-001, 1.11084138e-004],\n",
       "       [2.23396249e-262, 4.37503445e-010, 1.00000000e+000],\n",
       "       [6.81033690e-059, 9.99988174e-001, 1.18262451e-005],\n",
       "       [1.00000000e+000, 5.28478785e-016, 6.62850233e-022],\n",
       "       [1.35205992e-197, 1.87749553e-006, 9.99998123e-001],\n",
       "       [3.94189599e-066, 9.99985885e-001, 1.41152022e-005],\n",
       "       [1.00000000e+000, 3.88607532e-012, 4.20240835e-018],\n",
       "       [1.59205343e-244, 1.00870820e-009, 9.99999999e-001],\n",
       "       [1.00000000e+000, 2.85039319e-019, 4.47686271e-024],\n",
       "       [6.28345038e-107, 9.91961274e-001, 8.03872587e-003],\n",
       "       [1.00000000e+000, 3.88295451e-015, 1.42846958e-020],\n",
       "       [1.34062090e-036, 9.99997534e-001, 2.46550694e-006],\n",
       "       [2.31004509e-122, 9.31534444e-001, 6.84655561e-002],\n",
       "       [1.00000000e+000, 3.68585036e-018, 1.07239718e-023],\n",
       "       [1.00000000e+000, 2.09954105e-020, 2.71658609e-025],\n",
       "       [1.00000000e+000, 4.64403263e-019, 2.17517390e-024],\n",
       "       [1.00000000e+000, 2.86035917e-017, 4.99253087e-023],\n",
       "       [1.00000000e+000, 3.07426944e-018, 6.89790758e-024],\n",
       "       [3.63652330e-071, 9.99932928e-001, 6.70716273e-005],\n",
       "       [5.13270264e-076, 9.99700199e-001, 2.99801306e-004]])"
      ]
     },
     "execution_count": 44,
     "metadata": {},
     "output_type": "execute_result"
    }
   ],
   "source": [
    "x  = test\n",
    "P = None\n",
    "k = test.shape[1] \n",
    "print ('number of features: k=',k)\n",
    "\n",
    "potega = np.sum((x[:,np.newaxis,:] - mu[np.newaxis,:])**2 / (2 * sigma2[np.newaxis,:]),axis = 2)\n",
    "potega = np.exp(-potega)\n",
    "\n",
    "czynnik = p[np.newaxis,:] * 1 / np.sqrt((2 * np.pi)**k * np.prod(sigma2,axis = 1)[np.newaxis,:])\n",
    "\n",
    "P = czynnik * potega\n",
    "P = P / np.sum(P , axis = 1)[:,np.newaxis]\n",
    "P"
   ]
  },
  {
   "cell_type": "code",
   "execution_count": 45,
   "metadata": {},
   "outputs": [
    {
     "data": {
      "text/plain": [
       "((3, 4), (47, 4), (47, 3), array([0, 1, 2]))"
      ]
     },
     "execution_count": 45,
     "metadata": {},
     "output_type": "execute_result"
    }
   ],
   "source": [
    "sigma2.shape,x.shape,P.shape,np.unique(test_targets)"
   ]
  },
  {
   "cell_type": "code",
   "execution_count": 46,
   "metadata": {
    "deletable": false,
    "editable": false,
    "nbgrader": {
     "cell_type": "code",
     "checksum": "6a3ddd8477975546db9d6fd21bcbbb0b",
     "grade": true,
     "grade_id": "cell-8890f9bbc94e3376",
     "locked": true,
     "points": 4,
     "schema_version": 3,
     "solution": false
    }
   },
   "outputs": [],
   "source": [
    "np.testing.assert_almost_equal(P,clf.predict_proba(x))"
   ]
  },
  {
   "cell_type": "markdown",
   "metadata": {
    "deletable": false,
    "editable": false,
    "lang": "pl",
    "nbgrader": {
     "cell_type": "markdown",
     "checksum": "faa6cc7915e990e9199962313f15188b",
     "grade": false,
     "grade_id": "cell-b351fae0fb4da98e",
     "locked": true,
     "schema_version": 3,
     "solution": false
    }
   },
   "source": [
    "**5\\. Wyznacz klasę dla której prawdopodobieństwo *a posteriori* jest największe** \n",
    "\n",
    " $i$ : $\\quad\\textrm{ gdy } P_i(x)=\\max_{1\\leq j\\leq L} P_j(x)$\n"
   ]
  },
  {
   "cell_type": "code",
   "execution_count": 47,
   "metadata": {
    "deletable": false,
    "nbgrader": {
     "cell_type": "code",
     "checksum": "29fbd7d3999ed0b4d64e5b4155943a39",
     "grade": false,
     "grade_id": "cell-c19c296ed9d5d9be",
     "locked": false,
     "schema_version": 3,
     "solution": true
    }
   },
   "outputs": [],
   "source": [
    "prediction = None\n",
    "prediction = P.argmax(axis=1)"
   ]
  },
  {
   "cell_type": "code",
   "execution_count": 48,
   "metadata": {
    "deletable": false,
    "editable": false,
    "nbgrader": {
     "cell_type": "code",
     "checksum": "9f05224b70b541b0eca47e592b3f0aa7",
     "grade": true,
     "grade_id": "cell-8cfa7cdc5a2ae1d9",
     "locked": true,
     "points": 3,
     "schema_version": 3,
     "solution": false
    }
   },
   "outputs": [],
   "source": [
    "np.testing.assert_equal( prediction, clf.predict(test))"
   ]
  },
  {
   "cell_type": "code",
   "execution_count": 49,
   "metadata": {
    "deletable": false,
    "editable": false,
    "nbgrader": {
     "cell_type": "code",
     "checksum": "1bcfe4b7889550374dd0976262645233",
     "grade": false,
     "grade_id": "cell-972fc5023d20f3f2",
     "locked": true,
     "schema_version": 3,
     "solution": false
    }
   },
   "outputs": [
    {
     "name": "stdout",
     "output_type": "stream",
     "text": [
      "[0 2 2 0 0 0 0 0 2 1 2 1 1 1 1 0 2 2 2 2 1 2 0 0 2 1 1 1 2 1 0 2 1 0 2 0 1\n",
      " 0 1 1 0 0 0 0 0 1 1]\n",
      "[0 2 2 0 0 0 0 0 2 1 2 1 1 1 1 0 2 2 2 2 1 2 0 0 2 1 1 1 2 1 0 2 1 0 2 0 1\n",
      " 0 1 1 0 0 0 0 0 1 1]\n"
     ]
    }
   ],
   "source": [
    "print(clf.predict(test) )\n",
    "print(prediction)"
   ]
  },
  {
   "cell_type": "code",
   "execution_count": 50,
   "metadata": {},
   "outputs": [
    {
     "data": {
      "text/plain": [
       "0.9787234042553191"
      ]
     },
     "execution_count": 50,
     "metadata": {},
     "output_type": "execute_result"
    }
   ],
   "source": [
    "clf.score(test,test_targets)"
   ]
  }
 ],
 "metadata": {
  "kernelspec": {
   "display_name": "Python 3",
   "language": "python",
   "name": "python3"
  },
  "language_info": {
   "codemirror_mode": {
    "name": "ipython",
    "version": 3
   },
   "file_extension": ".py",
   "mimetype": "text/x-python",
   "name": "python",
   "nbconvert_exporter": "python",
   "pygments_lexer": "ipython3",
   "version": "3.7.4"
  },
  "latex_envs": {
   "LaTeX_envs_menu_present": true,
   "autoclose": false,
   "autocomplete": true,
   "bibliofile": "biblio.bib",
   "cite_by": "apalike",
   "current_citInitial": 1,
   "eqLabelWithNumbers": true,
   "eqNumInitial": 1,
   "hotkeys": {
    "equation": "Ctrl-E",
    "itemize": "Ctrl-I"
   },
   "labels_anchors": false,
   "latex_user_defs": false,
   "report_style_numbering": false,
   "user_envs_cfg": false
  },
  "nbTranslate": {
   "displayLangs": [
    "pl",
    "en"
   ],
   "hotkey": "alt-t",
   "langInMainMenu": true,
   "sourceLang": "pl",
   "targetLang": "en",
   "useGoogleTranslate": true
  }
 },
 "nbformat": 4,
 "nbformat_minor": 2
}
