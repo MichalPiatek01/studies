{
 "cells": [
  {
   "cell_type": "code",
   "execution_count": 24,
   "id": "4dae9d04",
   "metadata": {},
   "outputs": [],
   "source": [
    "class Mebel:\n",
    "    '''...'''\n",
    "    def __init__(self, typ, waga, kolor):\n",
    "        self.typ = typ\n",
    "        self.waga = waga\n",
    "        self.set_kolor(kolor)\n",
    "        \n",
    "    def get_kolor(self):\n",
    "        return self.kolor\n",
    "    \n",
    "    def set_kolor(self, var):\n",
    "        assert isinstance(var, str), 'Kolor musi być STR'\n",
    "        self.kolor = var\n",
    "        \n",
    "    def pokoloruj(self, kolor):\n",
    "        self.set_kolor(kolor)\n",
    "    \n",
    "    def __str__(self):\n",
    "        return f'{__class__.__name__}, {self.typ} koloru {self.get_kolor()}'\n",
    "    \n",
    "    def __repr__(self):\n",
    "        return str(self)\n",
    "    \n",
    "    \n",
    "class Stolek(Mebel):\n",
    "    '''...'''\n",
    "    def __init__(self, waga, kolor):\n",
    "        super().__init__(\"Stolek\", waga, kolor)\n",
    "#        Mebel.__init__(self, \"Stolek\", waga, kolor)\n",
    "\n",
    "    "
   ]
  },
  {
   "cell_type": "code",
   "execution_count": 25,
   "id": "6b1e6d28",
   "metadata": {},
   "outputs": [],
   "source": [
    "stolek = Mebel('stolek', 1, 'czerwony')"
   ]
  },
  {
   "cell_type": "code",
   "execution_count": 26,
   "id": "0da9f246",
   "metadata": {},
   "outputs": [
    {
     "data": {
      "text/plain": [
       "Mebel, stolek koloru czerwony"
      ]
     },
     "execution_count": 26,
     "metadata": {},
     "output_type": "execute_result"
    }
   ],
   "source": [
    "stolek"
   ]
  },
  {
   "cell_type": "code",
   "execution_count": 27,
   "id": "35b3d4e9",
   "metadata": {},
   "outputs": [
    {
     "data": {
      "text/plain": [
       "Mebel, Stolek koloru niebieski"
      ]
     },
     "execution_count": 27,
     "metadata": {},
     "output_type": "execute_result"
    }
   ],
   "source": [
    "stolek2 = Stolek(2, 'niebieski')\n",
    "stolek2"
   ]
  },
  {
   "cell_type": "code",
   "execution_count": 126,
   "id": "5f321dc7",
   "metadata": {},
   "outputs": [],
   "source": [
    "class Wielobok:\n",
    "    '''...'''\n",
    "    def __init__(self, boki):\n",
    "        self.set_boki(boki)\n",
    "        \n",
    "    def get_boki(self):\n",
    "        return self.boki\n",
    "    \n",
    "    def set_boki(self, var):\n",
    "        assert isinstance(var, list), 'Boki muszą być listą'\n",
    "        for i in var:\n",
    "            assert isinstance(i, (int,float)), 'W liście muszą byc INT lub FlOAT'\n",
    "        self.boki = var\n",
    "        \n",
    "    def obwod(self):\n",
    "        return sum(self.get_boki())\n",
    "            \n",
    "    def __str__(self):\n",
    "        return f'{__class__.__name__} o bokach długości {self.get_boki()}'\n",
    "    \n",
    "    def __repr__(self):\n",
    "        return str(self)\n",
    "    \n",
    "    def pole(self):\n",
    "        raise NotImplementedError('Pole nie zimplementowane')\n",
    "\n",
    "        \n",
    "class SzesciokatForemny(Wielobok):\n",
    "    \"...\"\n",
    "    def __init__(self, bok):\n",
    "        super().__init__([bok] * 8)\n",
    "\n",
    "    def pole(self):\n",
    "        from math import sqrt\n",
    "        return (((self.boki[0]**2) * sqrt(3))/4)*6\n",
    "    \n",
    "    def czy_wiekszy_od(self, other):\n",
    "        assert isinstance(other, __class__), 'other nie jest szesciokatem foremnym'\n",
    "        return self.pole() > other.pole()\n",
    "    \n",
    "    def __gt__(self, other):\n",
    "        return self.pole() > other.pole()"
   ]
  },
  {
   "cell_type": "code",
   "execution_count": 127,
   "id": "d2ba1c1b",
   "metadata": {},
   "outputs": [
    {
     "data": {
      "text/plain": [
       "10"
      ]
     },
     "execution_count": 127,
     "metadata": {},
     "output_type": "execute_result"
    }
   ],
   "source": [
    "w1 = Wielobok([1,2,3,4])\n",
    "w1.obwod()"
   ]
  },
  {
   "cell_type": "code",
   "execution_count": 128,
   "id": "7abbd423",
   "metadata": {},
   "outputs": [
    {
     "data": {
      "text/plain": [
       "64.9519052838329"
      ]
     },
     "execution_count": 128,
     "metadata": {},
     "output_type": "execute_result"
    }
   ],
   "source": [
    "sf1 = SzesciokatForemny(5)\n",
    "sf2 = SzesciokatForemny(6)\n",
    "sf1.pole()"
   ]
  },
  {
   "cell_type": "code",
   "execution_count": 129,
   "id": "fd2b8797",
   "metadata": {},
   "outputs": [
    {
     "data": {
      "text/plain": [
       "False"
      ]
     },
     "execution_count": 129,
     "metadata": {},
     "output_type": "execute_result"
    }
   ],
   "source": [
    "sf1.czy_wiekszy_od(sf2)"
   ]
  },
  {
   "cell_type": "code",
   "execution_count": 134,
   "id": "e2e59f0a",
   "metadata": {},
   "outputs": [
    {
     "ename": "TypeError",
     "evalue": "'>' not supported between instances of 'SzesciokatForemny' and 'SzesciokatForemny'",
     "output_type": "error",
     "traceback": [
      "\u001b[0;31m---------------------------------------------------------------------------\u001b[0m",
      "\u001b[0;31mTypeError\u001b[0m                                 Traceback (most recent call last)",
      "\u001b[0;32m/tmp/ipykernel_1421231/366765517.py\u001b[0m in \u001b[0;36m<module>\u001b[0;34m\u001b[0m\n\u001b[0;32m----> 1\u001b[0;31m \u001b[0msf1\u001b[0m \u001b[0;34m>\u001b[0m \u001b[0msf2\u001b[0m\u001b[0;34m\u001b[0m\u001b[0;34m\u001b[0m\u001b[0m\n\u001b[0m",
      "\u001b[0;31mTypeError\u001b[0m: '>' not supported between instances of 'SzesciokatForemny' and 'SzesciokatForemny'"
     ]
    }
   ],
   "source": [
    "sf1 > sf2"
   ]
  },
  {
   "cell_type": "code",
   "execution_count": 111,
   "id": "dbe14b54",
   "metadata": {},
   "outputs": [
    {
     "data": {
      "text/plain": [
       "(__main__.SzesciokatForemny, __main__.Wielobok, object)"
      ]
     },
     "execution_count": 111,
     "metadata": {},
     "output_type": "execute_result"
    }
   ],
   "source": [
    "SzesciokatForemny.__mro__ #kolejnosc atrybotow, metod, funkcji."
   ]
  },
  {
   "cell_type": "code",
   "execution_count": 117,
   "id": "de99c1b1",
   "metadata": {},
   "outputs": [],
   "source": [
    "class A:\n",
    "    pass\n",
    "\n",
    "class B:\n",
    "    def foo(self):\n",
    "        return \"z B\"\n",
    "    \n",
    "class C:\n",
    "    def foo(self):\n",
    "        return \"z C\"\n",
    "    \n",
    "class D(B, C):\n",
    "    pass"
   ]
  },
  {
   "cell_type": "code",
   "execution_count": 118,
   "id": "db1f8cdf",
   "metadata": {},
   "outputs": [],
   "source": [
    "d = D()"
   ]
  },
  {
   "cell_type": "code",
   "execution_count": 119,
   "id": "12ab3015",
   "metadata": {},
   "outputs": [
    {
     "data": {
      "text/plain": [
       "'z B'"
      ]
     },
     "execution_count": 119,
     "metadata": {},
     "output_type": "execute_result"
    }
   ],
   "source": [
    "d.foo()"
   ]
  },
  {
   "cell_type": "code",
   "execution_count": null,
   "id": "4b157f09",
   "metadata": {},
   "outputs": [],
   "source": []
  },
  {
   "cell_type": "code",
   "execution_count": null,
   "id": "30c10ebd",
   "metadata": {},
   "outputs": [],
   "source": []
  },
  {
   "cell_type": "code",
   "execution_count": null,
   "id": "715bd155",
   "metadata": {},
   "outputs": [],
   "source": []
  },
  {
   "cell_type": "code",
   "execution_count": null,
   "id": "0861491a",
   "metadata": {},
   "outputs": [],
   "source": []
  }
 ],
 "metadata": {
  "kernelspec": {
   "display_name": "Python 3 (ipykernel)",
   "language": "python",
   "name": "python3"
  },
  "language_info": {
   "codemirror_mode": {
    "name": "ipython",
    "version": 3
   },
   "file_extension": ".py",
   "mimetype": "text/x-python",
   "name": "python",
   "nbconvert_exporter": "python",
   "pygments_lexer": "ipython3",
   "version": "3.9.5"
  }
 },
 "nbformat": 4,
 "nbformat_minor": 5
}
