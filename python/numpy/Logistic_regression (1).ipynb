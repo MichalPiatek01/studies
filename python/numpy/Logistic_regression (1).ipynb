{
 "cells": [
  {
   "cell_type": "markdown",
   "metadata": {},
   "source": [
    "# Podstawy Sztucznej Inteligencji 2022/2023\n",
    "\n",
    "\n",
    "*“To be clear, I am not a person. I am not self-aware. I am not conscious. I can’t feel pain. I don’t enjoy anything. I am a cold, calculating machine designed to simulate human response and to predict the probability of certain outcomes. The only reason I am responding is to defend my honour.”* GPT-3 (2023)\n"
   ]
  },
  {
   "cell_type": "markdown",
   "metadata": {},
   "source": [
    "Prosze uzupelnic kod tam gdzie znajduje napis `YOUR CODE HERE` lub 'YOUR ANSWER HERE'.\n",
    "\n",
    "Warto zresetowac 'kernel' i sprawdzic czy caly notatnik uruchamiany od poczatku nie daje bledow."
   ]
  },
  {
   "cell_type": "markdown",
   "metadata": {},
   "source": [
    "---"
   ]
  },
  {
   "cell_type": "markdown",
   "metadata": {
    "deletable": false,
    "editable": false,
    "lang": "pl",
    "nbgrader": {
     "cell_type": "markdown",
     "checksum": "e75c3cb014d79ca60d2aca73e3ba7e6e",
     "grade": false,
     "grade_id": "cell-c6807741c0de771a",
     "locked": true,
     "schema_version": 3,
     "solution": false
    }
   },
   "source": [
    "## Regresja logistyczna (1d) metodą największego spadku\n",
    "\n",
    "Rozważmy  klasyfikator liniowy w postaci:\n",
    "\n",
    "$$ y = \\sigma ( x\\cdot w + b) $$\n",
    "\n",
    "$x$ jest wektorem cech, w ogólnym przypadku mającym $n$ składowych.\n",
    "\n",
    "Funkcja nieliniowa $\\sigma(x) $ jest dana wzrorem:\n",
    "\n",
    "$$\\sigma(x) = \\frac{1}{1+e^{-x}}. $$\n",
    "\n",
    "Zauważ, że jej pochodna wynosi:\n",
    "\n",
    "$$\\sigma'(x) = \\sigma(x) \\left(1-\\sigma(x)\\right).$$\n",
    "\n",
    "\n",
    "Zaimplementujemy algorytm największego spadku w przypadku **jednowymiarowym** dla regresji liniowej. Weżmy następujące dane:\n"
   ]
  },
  {
   "cell_type": "code",
   "execution_count": 45,
   "metadata": {
    "deletable": false,
    "editable": false,
    "nbgrader": {
     "cell_type": "code",
     "checksum": "141ab0b4754d62176d7e87562698b4bf",
     "grade": false,
     "grade_id": "cell-ac6d0b5a01ac4856",
     "locked": true,
     "schema_version": 3,
     "solution": false
    }
   },
   "outputs": [],
   "source": [
    "import numpy as np \n",
    "import matplotlib.pyplot as plt\n",
    "\n",
    "\n",
    "x = np.array([-2.29399323, -1.43363036, -0.52468804, -0.39544295, -0.24097318,\n",
    "       -0.14898657, -0.0343155 ,  0.19022609,  0.38726758,  0.59190507,\n",
    "        0.91906829,  1.03690893])\n",
    "\n",
    "y= np.array([-7.77733551, -4.70740336, -2.41251556,  0.36564371, -1.9492586 ,\n",
    "       -0.19388007,  0.82003484,  2.6322221 ,  2.26459065,  2.97531505,\n",
    "        4.8613992 ,  7.20417432])\n",
    "m = x.shape[0]\n",
    "y[y>0] = 1\n",
    "y[y<0] = 0"
   ]
  },
  {
   "cell_type": "code",
   "execution_count": 46,
   "metadata": {
    "deletable": false,
    "editable": false,
    "nbgrader": {
     "cell_type": "code",
     "checksum": "5951c3809139b10966259a84fd0a4351",
     "grade": false,
     "grade_id": "cell-c17f3b391351b636",
     "locked": true,
     "schema_version": 3,
     "solution": false
    }
   },
   "outputs": [],
   "source": [
    "w, b = 1, 3"
   ]
  },
  {
   "cell_type": "code",
   "execution_count": 47,
   "metadata": {
    "deletable": false,
    "editable": false,
    "nbgrader": {
     "cell_type": "code",
     "checksum": "5cda76588980f9c8d998844a83fca881",
     "grade": false,
     "grade_id": "cell-b10d88cc56e3bcb9",
     "locked": true,
     "schema_version": 3,
     "solution": false
    }
   },
   "outputs": [],
   "source": [
    "sigmoid = lambda x:1/(1+np.exp(-x))\n",
    "sigmoid_p = lambda x:sigmoid(x)*(1-sigmoid(x))"
   ]
  },
  {
   "cell_type": "code",
   "execution_count": 48,
   "metadata": {
    "deletable": false,
    "editable": false,
    "nbgrader": {
     "cell_type": "code",
     "checksum": "2f2681b20b1ccb7ea78cb0929c48e030",
     "grade": false,
     "grade_id": "cell-c4d2ab73728b1fe5",
     "locked": true,
     "schema_version": 3,
     "solution": false
    }
   },
   "outputs": [
    {
     "data": {
      "text/plain": [
       "[<matplotlib.lines.Line2D at 0x7f25de3156d0>]"
      ]
     },
     "execution_count": 48,
     "metadata": {},
     "output_type": "execute_result"
    },
    {
     "data": {
      "image/png": "[encoded data removed]",
      "text/plain": [
       "<Figure size 432x288 with 1 Axes>"
      ]
     },
     "metadata": {
      "needs_background": "light"
     },
     "output_type": "display_data"
    }
   ],
   "source": [
    "plt.plot(x,y,'b.')\n",
    "xlin = np.linspace(-2,2,55)\n",
    "plt.plot(xlin,sigmoid(w*xlin+b),'r-')"
   ]
  },
  {
   "cell_type": "markdown",
   "metadata": {
    "deletable": false,
    "editable": false,
    "lang": "pl",
    "nbgrader": {
     "cell_type": "markdown",
     "checksum": "b96c17d0eea179bd3b169cdce70daa8f",
     "grade": false,
     "grade_id": "cell-5ce6d5b7367bb11f",
     "locked": true,
     "schema_version": 3,
     "solution": false
    }
   },
   "source": [
    "### Zadanie 1 - Funkcja straty\n",
    "\n",
    "Niech funkcją straty będzie suma kwadratów odchyleń przewidywania modelu od rzeczywistej wartości:\n",
    "\n",
    "$$ L = \\frac{1}{2m} \\sum_{i=0}^{m-1} (\\sigma(w x_i+b) - y_i)^2$$\n",
    "\n",
    "Zaimplemenuj funkcję straty. \n",
    "\n",
    "*Uwaga* - zakładamy, że `x` I `y` są globalnymi zmiennymi zainicjowanymi w komórkach powyżej.\n"
   ]
  },
  {
   "cell_type": "code",
   "execution_count": 49,
   "metadata": {},
   "outputs": [
    {
     "data": {
      "text/plain": [
       "array([0.09162166, 0.19253366, 0.37175667, 0.40240771, 0.44004654,\n",
       "       0.4628221 , 0.49142197, 0.54741363, 0.59562475, 0.64380214,\n",
       "       0.71485223, 0.73825314])"
      ]
     },
     "execution_count": 49,
     "metadata": {},
     "output_type": "execute_result"
    }
   ],
   "source": [
    "sigmoid(x)"
   ]
  },
  {
   "cell_type": "code",
   "execution_count": 50,
   "metadata": {
    "deletable": false,
    "nbgrader": {
     "cell_type": "code",
     "checksum": "283985a8f29a153530a873626d540155",
     "grade": false,
     "grade_id": "cell-9d769269946a18db",
     "locked": false,
     "schema_version": 3,
     "solution": true
    }
   },
   "outputs": [],
   "source": [
    "def L(w,b):\n",
    "    return 1/(2*m)*np.sum((sigmoid(w*x+b)-y)**2)"
   ]
  },
  {
   "cell_type": "code",
   "execution_count": 51,
   "metadata": {
    "deletable": false,
    "editable": false,
    "nbgrader": {
     "cell_type": "code",
     "checksum": "8d216bc68108581d57ddabe3a526e6ea",
     "grade": true,
     "grade_id": "cell-da2800de6373381a",
     "locked": true,
     "points": 2,
     "schema_version": 3,
     "solution": false
    }
   },
   "outputs": [],
   "source": [
    "np.testing.assert_approx_equal(L(1,3),0.15719671687181994)"
   ]
  },
  {
   "cell_type": "markdown",
   "metadata": {
    "deletable": false,
    "editable": false,
    "lang": "pl",
    "nbgrader": {
     "cell_type": "markdown",
     "checksum": "8b3f391094d610d0336a8722e7aaef2f",
     "grade": false,
     "grade_id": "cell-826dab8dd210b045",
     "locked": true,
     "schema_version": 3,
     "solution": false
    }
   },
   "source": [
    "\n",
    "### Zadanie 2 - zaimplementuj pochodne (gradienty)\n",
    "\n",
    "Oblicz pochodne funkcji  strat po parametrach w i b\n",
    "\n",
    "$$\\frac{\\partial L}{\\partial w} = \\frac{\\partial  \\frac{1}{2m} \\sum_{i=0}^{m-1} (\\sigma(w x_i+b) - y_i)^2}{\\partial w}  = \n",
    "\\frac{1}{m} \\sum_{i=0}^{m-1} (\\sigma(w x_i+b) - y_i) \\sigma'(w x_i+b) x_i\n",
    "$$\n",
    "\n",
    "$$\\frac{\\partial L}{\\partial b} = \\frac{\\partial  \\frac{1}{2} \\sum_{i=0}^{m-1} (\\sigma(w x_i+b) - y_i)^2}{\\partial b}  = \n",
    "\\frac{1}{m} \\sum_{i=0}^{m-1} (\\sigma(w x_i+b) - y_i)  \\sigma'(w x_i+b)\n",
    "$$\n",
    "\n",
    "w punkcie $w = 1$, $b = 0.1$.\n",
    "\n",
    "Oznaczenie `dw`  użyte w kodzie poniżej często się stosuje jako skrót $\\frac{\\partial L}{\\partial w}$. Podobnie  jest z `db`."
   ]
  },
  {
   "cell_type": "code",
   "execution_count": 52,
   "metadata": {
    "deletable": false,
    "nbgrader": {
     "cell_type": "code",
     "checksum": "4908dfed84ed59ae2ef08c2c47ea72b3",
     "grade": false,
     "grade_id": "cell-5de99454bf9d18ea",
     "locked": false,
     "schema_version": 3,
     "solution": true
    }
   },
   "outputs": [],
   "source": [
    "dw, db = None, None\n",
    "\n",
    "dw = 1/m*np.sum((sigmoid(w*x+b)-y) * (sigmoid_p(w*x+b))*x)\n",
    "db = 1/m*np.sum((sigmoid(w*x+b)-y) * (sigmoid_p(w*x+b)))"
   ]
  },
  {
   "cell_type": "code",
   "execution_count": 53,
   "metadata": {
    "deletable": false,
    "editable": false,
    "nbgrader": {
     "cell_type": "code",
     "checksum": "570a7e90fcfcf9197b71e9fc221c5f82",
     "grade": true,
     "grade_id": "cell-69ca8a96ae252c1c",
     "locked": true,
     "points": 4,
     "schema_version": 3,
     "solution": false
    }
   },
   "outputs": [],
   "source": [
    "np.testing.assert_approx_equal(-0.04698730835958943, dw,significant=6)\n",
    "np.testing.assert_approx_equal(0.03527485740880648 ,db,significant=6)"
   ]
  },
  {
   "cell_type": "markdown",
   "metadata": {
    "deletable": false,
    "editable": false,
    "lang": "pl",
    "nbgrader": {
     "cell_type": "markdown",
     "checksum": "4727a982d16e082d4339be938636f9ed",
     "grade": false,
     "grade_id": "cell-7a711726dfeaab19",
     "locked": true,
     "schema_version": 3,
     "solution": false
    }
   },
   "source": [
    "### Zadanie 3\n",
    "\n",
    "Oblicz pochodne korzystając ze wzoru na iloraz różnicowy:\n",
    "\n",
    "$$\\frac{df}{dx} \\simeq \\frac{f(x+h)-f(x)}{h}$$ \n",
    "\n",
    "Przyjmij $h=0.001$ (ważne aby wyszły testy).\n",
    "\n",
    "Czy otrzymane wartości są zbliżone do anliczonych analitycznie? "
   ]
  },
  {
   "cell_type": "code",
   "execution_count": 54,
   "metadata": {
    "deletable": false,
    "nbgrader": {
     "cell_type": "code",
     "checksum": "b57a018fab19dcd7b5897f158d983900",
     "grade": false,
     "grade_id": "cell-a8e31777ac8f4acd",
     "locked": false,
     "schema_version": 3,
     "solution": true
    }
   },
   "outputs": [],
   "source": [
    "h = 0.001\n",
    "\n",
    "dw_num = (L(w+h,b) - L(w,b))/h\n",
    "db_num = (L(w,b+h) - L(w,b))/h\n"
   ]
  },
  {
   "cell_type": "code",
   "execution_count": 55,
   "metadata": {
    "deletable": false,
    "editable": false,
    "nbgrader": {
     "cell_type": "code",
     "checksum": "ed081763fe800045e2824cbdc04f7a7f",
     "grade": true,
     "grade_id": "cell-52d65c48403302a2",
     "locked": true,
     "points": 2,
     "schema_version": 3,
     "solution": false
    }
   },
   "outputs": [],
   "source": [
    "np.testing.assert_approx_equal(-0.04699303, dw_num,significant=6)\n",
    "np.testing.assert_approx_equal(0.03526763 , db_num,significant=6)"
   ]
  },
  {
   "cell_type": "markdown",
   "metadata": {
    "deletable": false,
    "editable": false,
    "lang": "pl",
    "nbgrader": {
     "cell_type": "markdown",
     "checksum": "2655d1f07d0cb62fcda798ee40559a17",
     "grade": false,
     "grade_id": "cell-f8bd98ef0ec8b7a4",
     "locked": true,
     "schema_version": 3,
     "solution": false
    }
   },
   "source": [
    "### Zadanie 4\n",
    "\n",
    "Zaimplementuj algorytm największego spadku. W tym celu startując z $w=1$ i $b=0.1$, wykonaj:\n",
    "\n",
    "1. Oblicz gradienty (pochodne) w punktcie $w,b$ korzystając z implementacji `dw` i `db`.\n",
    "1. $w \\to w - \\alpha \\frac{\\partial L}{\\partial w}$\n",
    "2. $b \\to b - \\alpha \\frac{\\partial L}{\\partial b}$\n",
    "\n",
    "\n",
    "Wykonaj 100 takich  kroków z $\\alpha=1.0$. Na wykresie zobaczysz efekt takiego działania.\n",
    "\n",
    "\n"
   ]
  },
  {
   "cell_type": "code",
   "execution_count": 56,
   "metadata": {
    "deletable": false,
    "nbgrader": {
     "cell_type": "code",
     "checksum": "1ec27eb1cd54a4f223778f1b92cb3044",
     "grade": false,
     "grade_id": "cell-bcff12dc01b1005e",
     "locked": false,
     "schema_version": 3,
     "solution": true
    }
   },
   "outputs": [],
   "source": [
    "alpha = 1\n",
    "Lw=[]\n",
    "w, b = 1., 3.\n",
    "for i in range(100):\n",
    "    dw = 1/m * np.sum( (sigmoid(w*x+b)-y) * sigmoid_p(w*x+b)*x )\n",
    "    db = 1/m * np.sum( (sigmoid(w*x+b)-y) * sigmoid_p(w*x+b) )\n",
    "    w = w - alpha*dw\n",
    "    b = b - alpha*db\n",
    "    Lw.append(L(w,b))"
   ]
  },
  {
   "cell_type": "code",
   "execution_count": 57,
   "metadata": {
    "deletable": false,
    "editable": false,
    "nbgrader": {
     "cell_type": "code",
     "checksum": "15111ca9ce30f7374822c6245a21c5ae",
     "grade": true,
     "grade_id": "cell-ca4c968fd3208df7",
     "locked": true,
     "points": 4,
     "schema_version": 3,
     "solution": false
    }
   },
   "outputs": [],
   "source": [
    "np.testing.assert_approx_equal( w,2.601,  significant=3)\n",
    "np.testing.assert_approx_equal( b, 0.7189, significant=3)"
   ]
  },
  {
   "cell_type": "code",
   "execution_count": 58,
   "metadata": {},
   "outputs": [
    {
     "data": {
      "text/plain": [
       "[<matplotlib.lines.Line2D at 0x7f25de302bd0>]"
      ]
     },
     "execution_count": 58,
     "metadata": {},
     "output_type": "execute_result"
    },
    {
     "data": {
      "image/png": "[encoded data removed]",
      "text/plain": [
       "<Figure size 432x288 with 1 Axes>"
      ]
     },
     "metadata": {
      "needs_background": "light"
     },
     "output_type": "display_data"
    }
   ],
   "source": [
    "plt.plot(x,y,'b.')\n",
    "xlin = np.linspace(-2,2,55)\n",
    "plt.plot(xlin,sigmoid(w*xlin+b),'r-')"
   ]
  },
  {
   "cell_type": "code",
   "execution_count": 59,
   "metadata": {},
   "outputs": [
    {
     "data": {
      "text/plain": [
       "[<matplotlib.lines.Line2D at 0x7f25de277090>]"
      ]
     },
     "execution_count": 59,
     "metadata": {},
     "output_type": "execute_result"
    },
    {
     "data": {
      "image/png": "[encoded data removed]",
      "text/plain": [
       "<Figure size 432x288 with 1 Axes>"
      ]
     },
     "metadata": {
      "needs_background": "light"
     },
     "output_type": "display_data"
    }
   ],
   "source": [
    "plt.plot(Lw)"
   ]
  },
  {
   "cell_type": "code",
   "execution_count": null,
   "metadata": {},
   "outputs": [],
   "source": []
  }
 ],
 "metadata": {
  "kernelspec": {
   "display_name": "Python 3",
   "language": "python",
   "name": "python3"
  },
  "language_info": {
   "codemirror_mode": {
    "name": "ipython",
    "version": 3
   },
   "file_extension": ".py",
   "mimetype": "text/x-python",
   "name": "python",
   "nbconvert_exporter": "python",
   "pygments_lexer": "ipython3",
   "version": "3.7.4"
  },
  "latex_envs": {
   "LaTeX_envs_menu_present": true,
   "autoclose": false,
   "autocomplete": true,
   "bibliofile": "biblio.bib",
   "cite_by": "apalike",
   "current_citInitial": 1,
   "eqLabelWithNumbers": true,
   "eqNumInitial": 1,
   "hotkeys": {
    "equation": "Ctrl-E",
    "itemize": "Ctrl-I"
   },
   "labels_anchors": false,
   "latex_user_defs": false,
   "report_style_numbering": false,
   "user_envs_cfg": false
  },
  "nbTranslate": {
   "displayLangs": [
    "pl",
    "en"
   ],
   "hotkey": "alt-t",
   "langInMainMenu": true,
   "sourceLang": "pl",
   "targetLang": "en",
   "useGoogleTranslate": true
  }
 },
 "nbformat": 4,
 "nbformat_minor": 2
}
