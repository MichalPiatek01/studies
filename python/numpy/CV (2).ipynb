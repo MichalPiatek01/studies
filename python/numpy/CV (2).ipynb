{
 "cells": [
  {
   "cell_type": "markdown",
   "metadata": {},
   "source": [
    "# Podstawy Sztucznej Inteligencji 2022/2023\n",
    "\n",
    "\n",
    "*“To be clear, I am not a person. I am not self-aware. I am not conscious. I can’t feel pain. I don’t enjoy anything. I am a cold, calculating machine designed to simulate human response and to predict the probability of certain outcomes. The only reason I am responding is to defend my honour.”* GPT-3 (2023)\n"
   ]
  },
  {
   "cell_type": "markdown",
   "metadata": {},
   "source": [
    "Prosze uzupelnic kod tam gdzie znajduje napis `YOUR CODE HERE` lub 'YOUR ANSWER HERE'.\n",
    "\n",
    "Warto zresetowac 'kernel' i sprawdzic czy caly notatnik uruchamiany od poczatku nie daje bledow."
   ]
  },
  {
   "cell_type": "markdown",
   "metadata": {},
   "source": [
    "---"
   ]
  },
  {
   "cell_type": "markdown",
   "metadata": {
    "deletable": false,
    "editable": false,
    "nbgrader": {
     "cell_type": "markdown",
     "checksum": "2e8216ba1da97952ea27f39bb934ad06",
     "grade": false,
     "grade_id": "cell-0a1f0c7a9a86ca8b",
     "locked": true,
     "schema_version": 3,
     "solution": false
    }
   },
   "source": [
    "## Metoda Walidacji Krzyżowej\n",
    "\n",
    "[Materiał z wykładu](https://docs.google.com/presentation/d/1VYK_4-l-XPA2hseOWTOF2VRj4ddU4uoQLnXzW7mrDsM/edit?usp=sharing)"
   ]
  },
  {
   "cell_type": "markdown",
   "metadata": {
    "deletable": false,
    "editable": false,
    "nbgrader": {
     "cell_type": "markdown",
     "checksum": "0fbfbc4222299630ccf733c0b844fd2a",
     "grade": false,
     "grade_id": "cell-2aa19cdf03419df0",
     "locked": true,
     "schema_version": 3,
     "solution": false
    }
   },
   "source": [
    "Jest to jedna z metod estymacji (oszacowania) błędu klasyfikatora. W metodzie tej wykonywany jest podział próby na `v` podzbiorów. `v-1` z nich używamy do uczenia, jeden do\n",
    "sprawdzenia. Procedurę powtarzamy `v` razy."
   ]
  },
  {
   "cell_type": "markdown",
   "metadata": {
    "deletable": false,
    "editable": false,
    "nbgrader": {
     "cell_type": "markdown",
     "checksum": "200b5dc069422ff6dad272b2ab6905b2",
     "grade": false,
     "grade_id": "cell-69e3742bc36b10ba",
     "locked": true,
     "schema_version": 3,
     "solution": false
    }
   },
   "source": [
    "Metoda ta jest szczególnie istotna, podczas poszukiwania optymalnych parametrów klasyfikatora."
   ]
  },
  {
   "cell_type": "code",
   "execution_count": 13,
   "metadata": {
    "deletable": false,
    "editable": false,
    "nbgrader": {
     "cell_type": "code",
     "checksum": "dad272deff7a4a12b0d6dd0876d52d2c",
     "grade": false,
     "grade_id": "cell-058df7f39726e354",
     "locked": true,
     "schema_version": 3,
     "solution": false
    }
   },
   "outputs": [],
   "source": [
    "%matplotlib inline \n",
    "import matplotlib.pyplot as plt\n",
    "import numpy as np"
   ]
  },
  {
   "cell_type": "code",
   "execution_count": 14,
   "metadata": {
    "deletable": false,
    "editable": false,
    "nbgrader": {
     "cell_type": "code",
     "checksum": "ea1265d9137a9b8da8c23021fbafa640",
     "grade": false,
     "grade_id": "cell-b1d500e780ae04de",
     "locked": true,
     "schema_version": 3,
     "solution": false
    }
   },
   "outputs": [],
   "source": [
    "from __future__ import print_function\n",
    "from sklearn.model_selection import train_test_split, KFold, StratifiedKFold\n",
    "from sklearn.neighbors import KNeighborsClassifier\n",
    "from sklearn import datasets\n",
    "from sklearn.svm import SVC\n",
    "from sklearn import preprocessing\n",
    "from sklearn.model_selection import cross_val_score\n",
    "from sklearn.model_selection import GridSearchCV\n",
    "from sklearn.metrics import classification_report"
   ]
  },
  {
   "cell_type": "markdown",
   "metadata": {
    "deletable": false,
    "editable": false,
    "nbgrader": {
     "cell_type": "markdown",
     "checksum": "9d6b4a1eee79a6ff847fa9726b749a72",
     "grade": false,
     "grade_id": "cell-150fcc891f169807",
     "locked": true,
     "schema_version": 3,
     "solution": false
    }
   },
   "source": [
    "Celem zestawu jest znalezienie optymalnego klasyfikator dla danych irys. W tym celu przeszukamy przestrzeń hiperparametrów dla klasyfikatorów kNN i SVM."
   ]
  },
  {
   "cell_type": "markdown",
   "metadata": {
    "deletable": false,
    "editable": false,
    "nbgrader": {
     "cell_type": "markdown",
     "checksum": "e6bf60b3e8741e4f9e100fafd8eaf3c8",
     "grade": false,
     "grade_id": "cell-1518beddef4d5d3e",
     "locked": true,
     "schema_version": 3,
     "solution": false
    }
   },
   "source": [
    "### Część 1"
   ]
  },
  {
   "cell_type": "markdown",
   "metadata": {
    "deletable": false,
    "editable": false,
    "nbgrader": {
     "cell_type": "markdown",
     "checksum": "08341cde0c3427f4cd18eb2d8d31d2ba",
     "grade": false,
     "grade_id": "cell-0f142b95c2a453ae",
     "locked": true,
     "schema_version": 3,
     "solution": false
    }
   },
   "source": [
    "Wczytaj dane irys, \n",
    "- podziel je na zbiór uczący i testowy w proporcji 7:3 oraz  dokonaj ich standaryzacji metodą `preprocessing.StandardScaler`. Podczas dzielenia ustaw `random_state` na 1234. W metodzie `fit`  obiektu klasy `preprocessing.StandardScaler` uwzględij tylko dane treningowe, natomiast dokonaj standaryzacji zarówno danych testowych, jak i treningowych.\n",
    "\n",
    "- stwórz zbiór składający się ze wszystkich dostępnych danych i wykonaj dla niego standaryzację. "
   ]
  },
  {
   "cell_type": "code",
   "execution_count": 15,
   "metadata": {
    "deletable": false,
    "nbgrader": {
     "cell_type": "code",
     "checksum": "6c65e78da154f3a0b36e0fb0e80e7359",
     "grade": false,
     "grade_id": "cell-70547edfca581c4b",
     "locked": false,
     "schema_version": 3,
     "solution": true
    }
   },
   "outputs": [],
   "source": [
    "standard_train = None\n",
    "standard_test = None\n",
    "train_targets = None\n",
    "test_targets = None\n",
    "\n",
    "standard_all = None\n",
    "all_targets = None\n",
    "\n",
    "x,y = datasets.load_iris(return_X_y=True)\n",
    "# print(x)\n",
    "# print(y)\n",
    "\n",
    "train, test, train_targets, test_targets = train_test_split(x, y, test_size=0.3, random_state=1234)\n",
    "# print(train.shape)\n",
    "# print(test.shape)\n",
    "\n",
    "scaler = preprocessing.StandardScaler()\n",
    "scaler.fit(train)\n",
    "standard_train = scaler.transform(train)\n",
    "standard_test = scaler.transform(test)\n",
    "\n",
    "scaler2 = preprocessing.StandardScaler()\n",
    "scaler2.fit(x)\n",
    "standard_all = scaler2.transform(x)\n"
   ]
  },
  {
   "cell_type": "code",
   "execution_count": 16,
   "metadata": {
    "deletable": false,
    "editable": false,
    "nbgrader": {
     "cell_type": "code",
     "checksum": "1d8980a8929d5696af611b2e3cbbc8f5",
     "grade": true,
     "grade_id": "cell-e0bbbc24af961c12",
     "locked": true,
     "points": 1,
     "schema_version": 3,
     "solution": false
    }
   },
   "outputs": [],
   "source": [
    "np.testing.assert_array_almost_equal(np.mean(standard_train, axis=0), [0,0,0,0])\n",
    "np.testing.assert_array_almost_equal(np.std(standard_train, axis=0), [1,1,1,1])"
   ]
  },
  {
   "cell_type": "code",
   "execution_count": 17,
   "metadata": {
    "deletable": false,
    "editable": false,
    "nbgrader": {
     "cell_type": "code",
     "checksum": "3e9e9764cff785cd8a7b08927e4e686b",
     "grade": true,
     "grade_id": "cell-ca067d190d48acc0",
     "locked": true,
     "points": 1,
     "schema_version": 3,
     "solution": false
    }
   },
   "outputs": [],
   "source": [
    "np.testing.assert_array_almost_equal(np.mean(standard_all, axis=0), [0,0,0,0])\n",
    "np.testing.assert_array_almost_equal(np.std(standard_all, axis=0), [1,1,1,1])"
   ]
  },
  {
   "cell_type": "markdown",
   "metadata": {
    "deletable": false,
    "editable": false,
    "nbgrader": {
     "cell_type": "markdown",
     "checksum": "71a1d65ea8e18e04f7b3cbdd63933728",
     "grade": false,
     "grade_id": "cell-f9dcd0988274a4c7",
     "locked": true,
     "schema_version": 3,
     "solution": false
    }
   },
   "source": [
    "### Część 2"
   ]
  },
  {
   "cell_type": "markdown",
   "metadata": {
    "deletable": false,
    "editable": false,
    "nbgrader": {
     "cell_type": "markdown",
     "checksum": "f939084d76be261d6c974b1e8957404a",
     "grade": false,
     "grade_id": "cell-d9f8e05402d137d1",
     "locked": true,
     "schema_version": 3,
     "solution": false
    }
   },
   "source": [
    "Dokonaj klasyfikacji z wykorzystaniem klasyfika kNN dla `k = 1`. Oszacuj błąd klasyfikacji z wykorzystaniem metody walidacji krzyżowej. W tym celu wykorzystaj zbiór `standard_all`. Użyj metody `cross_val_score` z biblioteki `sklearn`. Porownaj wynik walidacji krzyżowej z oszacowaniem dokladności z wykorzystaniem danych testowych. Jakie są czasy obu operacji?"
   ]
  },
  {
   "cell_type": "code",
   "execution_count": 18,
   "metadata": {
    "deletable": false,
    "nbgrader": {
     "cell_type": "code",
     "checksum": "cb2d235105ea375ecb49cda3f6dcab2a",
     "grade": true,
     "grade_id": "cell-f21095548aa238ca",
     "locked": false,
     "points": 4,
     "schema_version": 3,
     "solution": true
    }
   },
   "outputs": [
    {
     "data": {
      "text/plain": [
       "array([0.93333333, 0.96666667, 0.93333333, 0.9       , 1.        ])"
      ]
     },
     "execution_count": 18,
     "metadata": {},
     "output_type": "execute_result"
    }
   ],
   "source": [
    "clf = KNeighborsClassifier(n_neighbors=1)\n",
    "cross_val_score(clf, standard_all, y, cv=5)"
   ]
  },
  {
   "cell_type": "markdown",
   "metadata": {
    "deletable": false,
    "editable": false,
    "nbgrader": {
     "cell_type": "markdown",
     "checksum": "db08858062d654ec82dbc05bb823eb98",
     "grade": false,
     "grade_id": "cell-e795c649a345a451",
     "locked": true,
     "schema_version": 3,
     "solution": false
    }
   },
   "source": [
    "### Część 3"
   ]
  },
  {
   "cell_type": "markdown",
   "metadata": {
    "deletable": false,
    "editable": false,
    "nbgrader": {
     "cell_type": "markdown",
     "checksum": "2008ce3b09814e4fdcdd5ab8cf218ac7",
     "grade": false,
     "grade_id": "cell-4ea6d6f86d557045",
     "locked": true,
     "schema_version": 3,
     "solution": false
    }
   },
   "source": [
    "Samodzielnie (nie korzystając z funkcji bibliotecznej)wykonaj procedurę walidacji krzyżowej. W pierwszym kroku podziel zbiór danych na 10 części. Wykorzystaj do tego metodę `KFold`. Ustaw `random_state` na 123. \n",
    "\n",
    "Następnie metodą split stwórz 10 podziałów na dane testowe i treningowe Dla każdego podziłu (w pętli) trenuj klasyfikator na danych treningowych i oszacuj błęd na danych testowych. Otrzymane wyniki zapisz do tablicy. Po wyjściu z pętli wyznacz średni błąd."
   ]
  },
  {
   "cell_type": "code",
   "execution_count": 19,
   "metadata": {
    "deletable": false,
    "nbgrader": {
     "cell_type": "code",
     "checksum": "ea1e13713df832c436630d7efa596668",
     "grade": false,
     "grade_id": "cell-2edf33401a78c679",
     "locked": false,
     "schema_version": 3,
     "solution": true
    }
   },
   "outputs": [
    {
     "name": "stdout",
     "output_type": "stream",
     "text": [
      "Poszczególne wyniki:  [1.0, 1.0, 1.0, 0.9333333333333333, 0.8, 0.8666666666666667, 1.0, 0.8666666666666667, 0.8666666666666667, 1.0]\n",
      "Błąd wyznaczony procedurą walidacji krzyżowej:  0.9333333333333333\n"
     ]
    }
   ],
   "source": [
    "scores = []\n",
    "kf = KFold(10, random_state=123)\n",
    "\n",
    "for i, j in kf.split(standard_all):\n",
    "    knn = KNeighborsClassifier(1)\n",
    "    knn.fit(standard_all[i], y[i])\n",
    "    scores.append(knn.score(standard_all[j], y[j]))\n",
    "\n",
    "print (\"Poszczególne wyniki: \", scores)\n",
    "print (\"Błąd wyznaczony procedurą walidacji krzyżowej: \", np.array(scores).mean())"
   ]
  },
  {
   "cell_type": "code",
   "execution_count": 20,
   "metadata": {
    "deletable": false,
    "editable": false,
    "nbgrader": {
     "cell_type": "code",
     "checksum": "d6a0a1726f0f6cbb116167531d99ad0e",
     "grade": true,
     "grade_id": "cell-2d66f8e81fd3953c",
     "locked": true,
     "points": 5,
     "schema_version": 3,
     "solution": false
    }
   },
   "outputs": [],
   "source": [
    "np.testing.assert_array_almost_equal(scores, [1.0, 1.0, 1.0, 0.9333333333333333, 0.8, 0.8666666666666667, 1.0, 0.8666666666666667, 0.8666666666666667, 1.0])\n",
    "assert np.array(scores).mean()== 0.9333333333333333"
   ]
  },
  {
   "cell_type": "markdown",
   "metadata": {
    "deletable": false,
    "editable": false,
    "nbgrader": {
     "cell_type": "markdown",
     "checksum": "ffaa6f8a402f2f6974ee0eef381a7aee",
     "grade": false,
     "grade_id": "cell-514824811effbff8",
     "locked": true,
     "schema_version": 3,
     "solution": false
    }
   },
   "source": [
    "### Część 4\n",
    "\n",
    "Tym razem w miejsce metody `KFold` użyj `StratifiedKFold`. `random_state=678` Jaki teraz otrzymujesz błąd? Czym różnią się między sobą te dwie metody?"
   ]
  },
  {
   "cell_type": "code",
   "execution_count": 21,
   "metadata": {
    "deletable": false,
    "nbgrader": {
     "cell_type": "code",
     "checksum": "b3d436a1f011fd7df923bbcda2f054ea",
     "grade": false,
     "grade_id": "cell-d9e06a9425bfb635",
     "locked": false,
     "schema_version": 3,
     "solution": true
    }
   },
   "outputs": [
    {
     "name": "stdout",
     "output_type": "stream",
     "text": [
      "Poszczególne wyniki:  [1.0, 0.9333333333333333, 1.0, 0.9333333333333333, 0.8666666666666667, 1.0, 0.8, 1.0, 1.0, 1.0]\n",
      "Błąd wyznaczony procedurą walidacji krzyżowej:  0.9533333333333334\n"
     ]
    }
   ],
   "source": [
    "scores = []\n",
    "\n",
    "skf = StratifiedKFold(10, random_state=678)\n",
    "# kf.split(standard_all)\n",
    "\n",
    "for i, j in skf.split(standard_all, y):\n",
    "    knn = KNeighborsClassifier(1)\n",
    "    knn.fit(standard_all[i], y[i])\n",
    "    scores.append(knn.score(standard_all[j], y[j]))\n",
    "\n",
    "\n",
    "print (\"Poszczególne wyniki: \", scores)\n",
    "print (\"Błąd wyznaczony procedurą walidacji krzyżowej: \", np.array(scores).mean())"
   ]
  },
  {
   "cell_type": "code",
   "execution_count": 22,
   "metadata": {
    "deletable": false,
    "editable": false,
    "nbgrader": {
     "cell_type": "code",
     "checksum": "457df8d9c2f8a97bb62d0cadd6f2f1e6",
     "grade": true,
     "grade_id": "cell-af2042eb86f2e0b1",
     "locked": true,
     "points": 3,
     "schema_version": 3,
     "solution": false
    }
   },
   "outputs": [],
   "source": [
    "np.testing.assert_array_almost_equal(scores, [1.0, 0.9333333333333333, 1.0, 0.9333333333333333, 0.8666666666666667, 1.0, 0.8, 1.0, 1.0, 1.0])\n",
    "assert np.array(scores).mean()== 0.9533333333333334"
   ]
  },
  {
   "cell_type": "markdown",
   "metadata": {
    "deletable": false,
    "editable": false,
    "nbgrader": {
     "cell_type": "markdown",
     "checksum": "c5175aa37559e95f2598dfc33ce34edc",
     "grade": false,
     "grade_id": "cell-5c7cc02a77ec7843",
     "locked": true,
     "schema_version": 3,
     "solution": false
    }
   },
   "source": [
    "### Część 5"
   ]
  },
  {
   "cell_type": "markdown",
   "metadata": {
    "deletable": false,
    "editable": false,
    "nbgrader": {
     "cell_type": "markdown",
     "checksum": "d9600a79d936646e745e9f9752df757d",
     "grade": false,
     "grade_id": "cell-95b87a19c6827a6f",
     "locked": true,
     "schema_version": 3,
     "solution": false
    }
   },
   "source": [
    "Z wykorzystaniem walidacji krzyżowej znajdź optymalny parametr `k` dla $k \\in (1, 20)$. Wykorzystaj metodę przeszukującą podany zakres parametrów `GridSearchCV`."
   ]
  },
  {
   "cell_type": "code",
   "execution_count": 23,
   "metadata": {},
   "outputs": [
    {
     "data": {
      "text/plain": [
       "{'algorithm': 'auto',\n",
       " 'leaf_size': 30,\n",
       " 'metric': 'minkowski',\n",
       " 'metric_params': None,\n",
       " 'n_jobs': 1,\n",
       " 'n_neighbors': 1,\n",
       " 'p': 2,\n",
       " 'weights': 'uniform'}"
      ]
     },
     "execution_count": 23,
     "metadata": {},
     "output_type": "execute_result"
    }
   ],
   "source": [
    "clf = KNeighborsClassifier(1,n_jobs=1)\n",
    "clf.get_params()"
   ]
  },
  {
   "cell_type": "code",
   "execution_count": 26,
   "metadata": {
    "deletable": false,
    "nbgrader": {
     "cell_type": "code",
     "checksum": "ba15d208a5b43de820895fe5a3020ee2",
     "grade": true,
     "grade_id": "cell-f3b6debd56576e11",
     "locked": false,
     "points": 4,
     "schema_version": 3,
     "solution": true
    }
   },
   "outputs": [
    {
     "name": "stdout",
     "output_type": "stream",
     "text": [
      "CPU times: user 141 ms, sys: 4.97 ms, total: 146 ms\n",
      "Wall time: 145 ms\n"
     ]
    },
    {
     "name": "stderr",
     "output_type": "stream",
     "text": [
      "/opt/conda/lib/python3.7/site-packages/sklearn/model_selection/_split.py:1978: FutureWarning: The default value of cv will change from 3 to 5 in version 0.22. Specify it explicitly to silence this warning.\n",
      "  warnings.warn(CV_WARNING, FutureWarning)\n",
      "/opt/conda/lib/python3.7/site-packages/sklearn/model_selection/_search.py:814: DeprecationWarning: The default of the `iid` parameter will change from True to False in version 0.22 and will be removed in 0.24. This will change numeric results when test-set sizes are unequal.\n",
      "  DeprecationWarning)\n"
     ]
    },
    {
     "data": {
      "text/plain": [
       "GridSearchCV(cv='warn', error_score='raise-deprecating',\n",
       "             estimator=KNeighborsClassifier(algorithm='auto', leaf_size=30,\n",
       "                                            metric='minkowski',\n",
       "                                            metric_params=None, n_jobs=1,\n",
       "                                            n_neighbors=1, p=2,\n",
       "                                            weights='uniform'),\n",
       "             iid='warn', n_jobs=None,\n",
       "             param_grid={'n_neighbors': array([ 1,  2,  3,  4,  5,  6,  7,  8,  9, 10, 11, 12, 13, 14, 15, 16, 17,\n",
       "       18, 19, 20])},\n",
       "             pre_dispatch='2*n_jobs', refit=True, return_train_score=False,\n",
       "             scoring=None, verbose=0)"
      ]
     },
     "execution_count": 26,
     "metadata": {},
     "output_type": "execute_result"
    }
   ],
   "source": [
    "%%time\n",
    "clf = GridSearchCV(KNeighborsClassifier(1,n_jobs=1), {'n_neighbors':np.arange(1,21)})\n",
    "clf.fit(standard_train, train_targets)"
   ]
  },
  {
   "cell_type": "code",
   "execution_count": 25,
   "metadata": {},
   "outputs": [
    {
     "name": "stdout",
     "output_type": "stream",
     "text": [
      "Zestaw najlepszych parametrów:\n",
      "\n",
      "{'n_neighbors': 14}\n",
      "\n",
      "Błąd:  0.9619047619047619\n",
      "\n",
      "Wyniki\n",
      "\n",
      "0.905 (+/-0.194) dla {'n_neighbors': 1}\n",
      "0.914 (+/-0.123) dla {'n_neighbors': 2}\n",
      "0.905 (+/-0.194) dla {'n_neighbors': 3}\n",
      "0.914 (+/-0.081) dla {'n_neighbors': 4}\n",
      "0.943 (+/-0.124) dla {'n_neighbors': 5}\n",
      "0.924 (+/-0.177) dla {'n_neighbors': 6}\n",
      "0.933 (+/-0.150) dla {'n_neighbors': 7}\n",
      "0.943 (+/-0.123) dla {'n_neighbors': 8}\n",
      "0.952 (+/-0.097) dla {'n_neighbors': 9}\n",
      "0.943 (+/-0.081) dla {'n_neighbors': 10}\n",
      "0.933 (+/-0.108) dla {'n_neighbors': 11}\n",
      "0.943 (+/-0.081) dla {'n_neighbors': 12}\n",
      "0.943 (+/-0.123) dla {'n_neighbors': 13}\n",
      "0.962 (+/-0.071) dla {'n_neighbors': 14}\n",
      "0.924 (+/-0.054) dla {'n_neighbors': 15}\n",
      "0.952 (+/-0.054) dla {'n_neighbors': 16}\n",
      "0.943 (+/-0.048) dla {'n_neighbors': 17}\n",
      "0.914 (+/-0.124) dla {'n_neighbors': 18}\n",
      "0.914 (+/-0.124) dla {'n_neighbors': 19}\n",
      "0.895 (+/-0.096) dla {'n_neighbors': 20}\n",
      "\n"
     ]
    },
    {
     "data": {
      "text/plain": [
       "KNeighborsClassifier(algorithm='auto', leaf_size=30, metric='minkowski',\n",
       "                     metric_params=None, n_jobs=1, n_neighbors=14, p=2,\n",
       "                     weights='uniform')"
      ]
     },
     "execution_count": 25,
     "metadata": {},
     "output_type": "execute_result"
    }
   ],
   "source": [
    "print(\"Zestaw najlepszych parametrów:\")\n",
    "print()\n",
    "print(clf.best_params_)\n",
    "print()\n",
    "print (\"Błąd: \", clf.best_score_)\n",
    "print()\n",
    "print(\"Wyniki\")\n",
    "print()\n",
    "means = clf.cv_results_['mean_test_score']\n",
    "stds = clf.cv_results_['std_test_score']\n",
    "for mean, std, params in zip(means, stds, clf.cv_results_['params']):\n",
    "    print(\"%0.3f (+/-%0.03f) dla %r\"\n",
    "            % (mean, std * 2, params))\n",
    "print()\n",
    "clf.best_estimator_"
   ]
  },
  {
   "cell_type": "code",
   "execution_count": 27,
   "metadata": {},
   "outputs": [
    {
     "data": {
      "text/plain": [
       "0.9777777777777777"
      ]
     },
     "execution_count": 27,
     "metadata": {},
     "output_type": "execute_result"
    }
   ],
   "source": [
    "clf.best_estimator_.score(standard_test, test_targets)"
   ]
  },
  {
   "cell_type": "code",
   "execution_count": 28,
   "metadata": {},
   "outputs": [
    {
     "data": {
      "text/plain": [
       "0.9777777777777777"
      ]
     },
     "execution_count": 28,
     "metadata": {},
     "output_type": "execute_result"
    }
   ],
   "source": [
    "clf.score(standard_test,test_targets)"
   ]
  },
  {
   "cell_type": "code",
   "execution_count": null,
   "metadata": {},
   "outputs": [],
   "source": []
  }
 ],
 "metadata": {
  "kernelspec": {
   "display_name": "Python 3",
   "language": "python",
   "name": "python3"
  },
  "language_info": {
   "codemirror_mode": {
    "name": "ipython",
    "version": 3
   },
   "file_extension": ".py",
   "mimetype": "text/x-python",
   "name": "python",
   "nbconvert_exporter": "python",
   "pygments_lexer": "ipython3",
   "version": "3.7.4"
  },
  "latex_envs": {
   "LaTeX_envs_menu_present": true,
   "autoclose": false,
   "autocomplete": true,
   "bibliofile": "biblio.bib",
   "cite_by": "apalike",
   "current_citInitial": 1,
   "eqLabelWithNumbers": true,
   "eqNumInitial": 1,
   "hotkeys": {
    "equation": "Ctrl-E",
    "itemize": "Ctrl-I"
   },
   "labels_anchors": false,
   "latex_user_defs": false,
   "report_style_numbering": false,
   "user_envs_cfg": false
  },
  "nbTranslate": {
   "displayLangs": [
    "*"
   ],
   "hotkey": "alt-t",
   "langInMainMenu": true,
   "sourceLang": "en",
   "targetLang": "fr",
   "useGoogleTranslate": true
  }
 },
 "nbformat": 4,
 "nbformat_minor": 2
}
