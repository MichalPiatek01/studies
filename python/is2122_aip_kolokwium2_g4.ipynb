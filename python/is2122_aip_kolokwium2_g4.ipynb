{
 "cells": [
  {
   "cell_type": "markdown",
   "id": "09fd96be",
   "metadata": {},
   "source": [
    "# AiP,  2021-2022\n",
    "## Kolokwium nr 2\n",
    "\n",
    "**Reguły**\n",
    "\n",
    "* prace są samodzielne, na zasadzie **open book, open notes**, co oznacza, że można korzystać ze swoich własnych kodów, wykładu, ćwiczeń, książek, manuali, dokumentacji, kursów, itp…\n",
    "* ...ale **nie wolno korzystać z cudzych kodów na zasadzie copy-paste** \n",
    "    - znaleziona w czasie oceniania kopia kodu z internetu (tak, my też znamy google) otrzymuje 0 punktów\n",
    "    - kopie kodu u różnych studentów to też 0 punktów\n",
    "\n",
    "\n",
    "\n",
    "   >**Uwagi**: \n",
    "   > * Warto testować swoje kody. Brak testów to pierwszy krok do słabej / niezadowalającej oceny z kolokwium. \n",
    "   > * Warto używać porządnych nazw zmiennych. "
   ]
  },
  {
   "cell_type": "code",
   "execution_count": null,
   "id": "28dfb3b3",
   "metadata": {},
   "outputs": [],
   "source": []
  },
  {
   "cell_type": "markdown",
   "id": "493c0849",
   "metadata": {},
   "source": [
    "## Zadanie 1 `Auto`mobil [30 pkt]\n",
    "Zbuduj klasę `Auto` (5 pkt). \n",
    "\n",
    "#### Specyfikacja\n",
    "* argumenty: marka, model, cena (pkt wliczone)\n",
    "* atrybuty:\n",
    "    * marka: przechwytuje markę, str (pkt wliczone)\n",
    "    * model: przechwytuje model, str (pkt wliczone)\n",
    "    * cena: przechwytuje cenę, num (pkt wliczone)\n",
    "    * rok produkcji: num (2 pkt)\n",
    "    * id: generowane automatycznie z atrybutu/funkcji klasy, num lub str (3 pkt)\n",
    "* metody: \n",
    "    * get/set (2 pkt), settery w `__init__` lub dekorator (3 pkt)\n",
    "    * promocja: obniża cenę samochodu (3 pkt)\n",
    "    * str, repr (2 pkt)\n",
    "    * `__lt__` i `__gt__` porównujące ceny (2 pkt)\n",
    "    \n",
    "#### Dodatkowe punkty\n",
    "* PEP 8: (2 pkt)\n",
    "* docstr: (3 pkt, tylko za jeden z omawianych typów)\n",
    "* sześć różnych instancji z testami metod (3 pkt)"
   ]
  },
  {
   "cell_type": "code",
   "execution_count": 66,
   "id": "3be75929",
   "metadata": {},
   "outputs": [],
   "source": [
    "class Auto:\n",
    "    '''Obiekt Auto opisuje nam wlasnosci aut.\n",
    "    \n",
    "    Args:\n",
    "        marka (str): trzyma marke auta\n",
    "        model (str): trzyma model auta\n",
    "        cena (int): trzyma cene auta\n",
    "\n",
    "    Attributes:\n",
    "        marka: tu przechowujemy informacje o marce\n",
    "        model: tu przechowujemy informacje o modelu\n",
    "        cena: tu przechowujemy informacje o cenie\n",
    "        \n",
    "    Methods:\n",
    "        promocja: obniza cene auta\n",
    "        __gt__: sprawdza czy auto jest droższe od innego auta\n",
    "        __lt__: sprawdza czy auto jest tańsze od innego auta\n",
    "    '''\n",
    "    def __init__(self, marka, model, cena):\n",
    "        self._marka = marka\n",
    "        self._model = model\n",
    "        self._cena = cena\n",
    "        \n",
    "\n",
    "    def get_marka(self):\n",
    "        return self._marka\n",
    "    \n",
    "    def get_model(self):\n",
    "        return self._model\n",
    "    \n",
    "    def get_cena(self):\n",
    "        return self._cena\n",
    "\n",
    "    def set_marka(self, var):\n",
    "        assert isinstance(var, str), 'Marka musi być STR'\n",
    "        self._marka = var\n",
    "        \n",
    "    def set_model(self, var):\n",
    "        assert isinstance(var, str), 'Model musi być STR'\n",
    "        self._model = var\n",
    "        \n",
    "    def set_cena(self, var):\n",
    "        assert isinstance(var, int), 'Cena musi być INT'\n",
    "        self._cena = var\n",
    "    \n",
    "    def promocja(self,var):\n",
    "        self._cena = self._cena - var\n",
    "    \n",
    "    def __gt__(self, other):\n",
    "        return self._cena > other._cena\n",
    "    \n",
    "    def __lt__(self, other):\n",
    "        return self._cena < other._cena\n",
    "    \n",
    "    def __str__(self):\n",
    "        return f'Marka: {self._marka}\\nModel: {self._model}\\nCena: {self._cena}'\n",
    "\n",
    "    def __repr__(self):\n",
    "        return f'Marka: {self._marka}\\nModel: {self._model}\\nCena: {self._cena}'\n",
    "    \n",
    "Auto_1 = Auto('Fiat1', 'Punto1', 2001)\n",
    "Auto_2 = Auto('Fiat2', 'Punto2', 2002)\n",
    "Auto_3 = Auto('Fiat3', 'Punto3', 2003)\n",
    "Auto_4 = Auto('Fiat4', 'Punto4', 2004)\n",
    "Auto_5 = Auto('Fiat5', 'Punto5', 2005)\n",
    "Auto_6 = Auto('Fiat6', 'Punto6', 2006)"
   ]
  },
  {
   "cell_type": "code",
   "execution_count": 63,
   "id": "6ad303ed",
   "metadata": {},
   "outputs": [
    {
     "data": {
      "text/plain": [
       "1"
      ]
     },
     "execution_count": 63,
     "metadata": {},
     "output_type": "execute_result"
    }
   ],
   "source": [
    "Auto_1.promocja(200)\n",
    "Auto_1.numer_id\n",
    "Auto_2.numer_id"
   ]
  },
  {
   "cell_type": "code",
   "execution_count": 47,
   "id": "1ec61b6c",
   "metadata": {},
   "outputs": [
    {
     "name": "stdout",
     "output_type": "stream",
     "text": [
      "True False\n"
     ]
    }
   ],
   "source": [
    "print(Auto_1<Auto_2, Auto_3>Auto_4)"
   ]
  },
  {
   "cell_type": "code",
   "execution_count": null,
   "id": "1c3f21de",
   "metadata": {},
   "outputs": [],
   "source": []
  },
  {
   "cell_type": "markdown",
   "id": "38da6d05",
   "metadata": {},
   "source": [
    "## Zadanie 2 `SalonSamochodowy` [40 pkt]\n",
    "Zbuduj klasę `SalonSamochodowy` (5 pkt), która będzie magazynem, gdzie \"składować\" będą Państwo samochody - instancje klasy `Auto` z zadania 1.\n",
    "\n",
    "### Specyfikacja\n",
    "#### `SalonSamochodowy`\n",
    "* argumenty: właściciel, adres (pkt wliczone)\n",
    "* atrybuty: \n",
    "    * właściciel: przechwytuje właściciela, str (pkt wliczone)\n",
    "    * adres: przechwytuje adres salonu, str (pkt wliczone)\n",
    "    * auta: tworzy listę samochodów (3 pkt)\n",
    "* metody: \n",
    "    * get/set (2 pkt), settery w `__init__` lub dekorator (3 pkt)\n",
    "    * dodaj_auto(instancja_klasy_auto): dodaje auto do listy, sprawdzając czy pochodzi z klasy `Auto` (2 pkt)\n",
    "    * usun_auto(id): usuwa auto z listy (po podaniu id) (3 pkt)\n",
    "    * lista_aut(pole): kwerenda, która drukuje listę samochodów posortowaną po odpowiednim polu instancji (a) id - domyślnie, (b) cenie, (c) roku produkcji (3 pkt)\n",
    "    * str, repr (2 pkt)\n",
    "    \n",
    "#### Sortowanie\n",
    "Dodaj funkcję klasy lub metodę implementującą jeden algorytm sortowania, by posortować listę samochodów w powyższej metodzie `lista_aut`:\n",
    "* metody $\\cal O(n^2)$: 5 pkt\n",
    "* metody $\\cal O(n \\log n)$: 10 pkt\n",
    "* `sort` z języka Python: 1 pkt\n",
    "    \n",
    "#### Dodatkowe punkty\n",
    "* docstr: (3 pkt, tylko za jeden z omawianych typów)\n",
    "* PEP 8 (2 pkt)\n",
    "* jedna instancja posiadająca minimum 6 instancji z `Auto` (2 pkt)"
   ]
  },
  {
   "cell_type": "code",
   "execution_count": 83,
   "id": "fd74aef6",
   "metadata": {},
   "outputs": [],
   "source": [
    "class SalonSamochodowy:\n",
    "    '''Obiekt SalonSamochodowy opisuje nam baze danych.\n",
    "    \n",
    "    Args:\n",
    "        wlasciciel (str): trzyma właściciela\n",
    "        adres (str): trzyma adres\n",
    "\n",
    "    Attributes:\n",
    "        marka: tu przechowujemy informacje o właścicielu\n",
    "        model: tu przechowujemy informacje o adresie\n",
    "        \n",
    "    Methods:\n",
    "        dodaj_auto(instancja_klasy_auto): dodaje auto do listy, sprawdzając czy pochodzi z klasy Auto\n",
    "        usun_auto: usuwa auto z listy(po podaniu id)\n",
    "        lista_aut(pole): kwerenda, która drukuje listę samochodów posortowaną po odpowiednim polu instancji\n",
    "    '''\n",
    "    def __init__(wlasciciel, adres):\n",
    "        self._wlasciciel = wlasciciel\n",
    "        self._adres = adres\n",
    "        self._auta = []\n",
    "    \n",
    "    def get_wlasciciel(self):\n",
    "        return self._wlasciciel\n",
    "    \n",
    "    def get_adres(self):\n",
    "        return self._adres\n",
    "    \n",
    "    def set_wlasciciel(self, var):\n",
    "        assert isinstance(var, str), 'Wlasciciel musi być STR'\n",
    "        self._wlasciciel = var\n",
    "    \n",
    "    def set_adres(self, var):\n",
    "        assert isinstance(var, str), 'Adres musi być STR'\n",
    "        self._adres = var\n",
    "    \n",
    "    def dodaj_auto(self, instancja_klasy_auto):\n",
    "        pass\n",
    "    \n",
    "    def lista_aut(self, var):\n",
    "        pass\n",
    "    \n",
    "    def merge_sort(A):\n",
    "        if len(A) == 1:\n",
    "            return A\n",
    "        else:\n",
    "            srodek = len(A) // 2\n",
    "            L = merge_sort(A[:srodek])\n",
    "            P = merge_sort(A[srodek:])\n",
    "            return scal(L,P)\n",
    "    \n",
    "    def scal(L,P):\n",
    "        wynik=[]\n",
    "        i = 0\n",
    "        j = 0\n",
    "        while i < len(L) and j < len(P):\n",
    "            if L[i] > P[j]:\n",
    "                wynik.append(P[j])\n",
    "                j += 1\n",
    "            else:\n",
    "                wynik.append(L[i])\n",
    "                i += 1\n",
    "        if i < len(L):\n",
    "            wynik += L[i:]\n",
    "        elif j < len(P):\n",
    "            wynik += P[j:]\n",
    "        return wynik\n",
    "    \n",
    "    def usun_auto(self, var):\n",
    "        del self._auto[var]\n",
    "        \n",
    "    def __str__(self):\n",
    "        return f'Właściciel: {self._wlasciciel}\\nAdres: {self._adres}'\n",
    "\n",
    "    def __repr__(self):\n",
    "        return f'Właściciel: {self._wlascicel}\\nAdres: {self._adres}'    "
   ]
  },
  {
   "cell_type": "code",
   "execution_count": null,
   "id": "ca54bafc",
   "metadata": {},
   "outputs": [],
   "source": []
  },
  {
   "cell_type": "markdown",
   "id": "51569b8e",
   "metadata": {},
   "source": [
    "## Zadanie 3 (30 pkt)\n",
    "Liczbę $e$ ($\\exp$) można zapisać w postaci nieskończonego szeregu sum odwrotności silni kolejnych liczb naturalnych\n",
    "\n",
    "$$e = \\sum_{n=0}^{\\infty} \\frac{1}{n!} = \\frac{1}{0!} + \\frac{1}{1!} + \\frac{1}{2!} + \\frac{1}{3!} + \\frac{1}{4!} + \\dots$$\n",
    "\n",
    "Zbuduj iterator zwracający kolejne przybliżenia liczby $e$ wykorzystując 3 metody\n",
    "* klasę (8 pkt)\n",
    "* generator (8 pkt)\n",
    "* wyrażenie_generujące (8 pkt)\n",
    "\n",
    "#### Dodatkowe punkty\n",
    "Jeżeli napiszesz swoją własną funkcję obliczającą silnię otrzymasz ostatnie 6 pkt."
   ]
  },
  {
   "cell_type": "code",
   "execution_count": 1,
   "id": "3dca3d4a",
   "metadata": {},
   "outputs": [],
   "source": [
    "def silnia(n):\n",
    "    if n > 1:\n",
    "        return n*silnia(n-1)\n",
    "    return 1\n",
    "\n",
    "class IteratorExp:\n",
    "    \"\"\"...\"\"\"\n",
    "    def __init__(self,koniec):\n",
    "        self.i = 1\n",
    "        self.koniec = koniec\n",
    "        self.e = 0\n",
    "\n",
    "    def __iter__(self):\n",
    "        return self\n",
    "\n",
    "    def __next__(self):\n",
    "        suma = 0\n",
    "        if self.i < self.koniec:\n",
    "            self.e = 1 / silnia(self.i)\n",
    "            suma += self.e\n",
    "            print(suma)\n",
    "            self.i += 1\n",
    "            return self.e\n",
    "        raise StopIteration\n",
    "        \n"
   ]
  },
  {
   "cell_type": "code",
   "execution_count": 3,
   "id": "2b21f824",
   "metadata": {},
   "outputs": [
    {
     "name": "stdout",
     "output_type": "stream",
     "text": [
      "1.0\n"
     ]
    },
    {
     "data": {
      "text/plain": [
       "1.0"
      ]
     },
     "execution_count": 3,
     "metadata": {},
     "output_type": "execute_result"
    }
   ],
   "source": [
    "e1 = IteratorExp(5)\n",
    "next(e1)"
   ]
  },
  {
   "cell_type": "code",
   "execution_count": 7,
   "id": "de0ecbbb",
   "metadata": {},
   "outputs": [],
   "source": [
    "def generator_e(koniec):  \n",
    "    i = 1\n",
    "    while i < koniec:\n",
    "        yield 1 / (silnia(i))\n",
    "        i += 1"
   ]
  },
  {
   "cell_type": "code",
   "execution_count": 11,
   "id": "e7a853fa",
   "metadata": {},
   "outputs": [
    {
     "data": {
      "text/plain": [
       "1.0"
      ]
     },
     "execution_count": 11,
     "metadata": {},
     "output_type": "execute_result"
    }
   ],
   "source": [
    "e2 = generator_e(3)\n"
   ]
  },
  {
   "cell_type": "code",
   "execution_count": 13,
   "id": "2882d883",
   "metadata": {},
   "outputs": [
    {
     "ename": "StopIteration",
     "evalue": "",
     "output_type": "error",
     "traceback": [
      "\u001b[0;31m---------------------------------------------------------------------------\u001b[0m",
      "\u001b[0;31mStopIteration\u001b[0m                             Traceback (most recent call last)",
      "\u001b[0;32m/tmp/ipykernel_3857680/1495498574.py\u001b[0m in \u001b[0;36m<module>\u001b[0;34m\u001b[0m\n\u001b[0;32m----> 1\u001b[0;31m \u001b[0mnext\u001b[0m\u001b[0;34m(\u001b[0m\u001b[0me2\u001b[0m\u001b[0;34m)\u001b[0m\u001b[0;34m\u001b[0m\u001b[0;34m\u001b[0m\u001b[0m\n\u001b[0m",
      "\u001b[0;31mStopIteration\u001b[0m: "
     ]
    }
   ],
   "source": [
    "next(e2)"
   ]
  },
  {
   "cell_type": "code",
   "execution_count": 125,
   "id": "9d56c0d7",
   "metadata": {},
   "outputs": [],
   "source": [
    "generator_exp = lambda x : (1 / (silnia(i)) for i in range(x))\n",
    "ge  = generator_exp(5)"
   ]
  },
  {
   "cell_type": "code",
   "execution_count": 81,
   "id": "b797f2ad",
   "metadata": {},
   "outputs": [
    {
     "data": {
      "text/plain": [
       "0.5"
      ]
     },
     "execution_count": 81,
     "metadata": {},
     "output_type": "execute_result"
    }
   ],
   "source": [
    "next(ge)"
   ]
  },
  {
   "cell_type": "code",
   "execution_count": null,
   "id": "11639259",
   "metadata": {},
   "outputs": [],
   "source": []
  },
  {
   "cell_type": "code",
   "execution_count": null,
   "id": "0dac4735",
   "metadata": {},
   "outputs": [],
   "source": []
  }
 ],
 "metadata": {
  "kernelspec": {
   "display_name": "Python 3 (ipykernel)",
   "language": "python",
   "name": "python3"
  },
  "language_info": {
   "codemirror_mode": {
    "name": "ipython",
    "version": 3
   },
   "file_extension": ".py",
   "mimetype": "text/x-python",
   "name": "python",
   "nbconvert_exporter": "python",
   "pygments_lexer": "ipython3",
   "version": "3.9.5"
  }
 },
 "nbformat": 4,
 "nbformat_minor": 5
}
