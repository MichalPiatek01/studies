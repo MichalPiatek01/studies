{
 "cells": [
  {
   "cell_type": "markdown",
   "id": "09fd96be",
   "metadata": {},
   "source": [
    "# AiP,  2021-2022\n",
    "## Kolokwium nr 2\n",
    "\n",
    "**Reguły**\n",
    "\n",
    "* prace są samodzielne, na zasadzie **open book, open notes**, co oznacza, że można korzystać ze swoich własnych kodów, wykładu, ćwiczeń, książek, manuali, dokumentacji, kursów, itp…\n",
    "* ...ale **nie wolno korzystać z cudzych kodów na zasadzie copy-paste** \n",
    "    - znaleziona w czasie oceniania kopia kodu z internetu (tak, my też znamy google) otrzymuje 0 punktów\n",
    "    - kopie kodu u różnych studentów to też 0 punktów\n",
    "\n",
    "\n",
    "\n",
    "   >**Uwagi**: \n",
    "   > * Warto testować swoje kody. Brak testów to pierwszy krok do słabej / niezadowalającej oceny z kolokwium. \n",
    "   > * Warto używać porządnych nazw zmiennych. "
   ]
  },
  {
   "cell_type": "code",
   "execution_count": null,
   "id": "28dfb3b3",
   "metadata": {},
   "outputs": [],
   "source": []
  },
  {
   "cell_type": "markdown",
   "id": "493c0849",
   "metadata": {},
   "source": [
    "## Zadanie 1 `Auto`mobil [30 pkt]\n",
    "Zbuduj klasę `Auto` (5 pkt). \n",
    "\n",
    "#### Specyfikacja\n",
    "* argumenty: marka, model, cena (pkt wliczone)\n",
    "* atrybuty:\n",
    "    * marka: przechwytuje markę, str (pkt wliczone)\n",
    "    * model: przechwytuje model, str (pkt wliczone)\n",
    "    * cena: przechwytuje cenę, num (pkt wliczone)\n",
    "    * rok produkcji: num (2 pkt)\n",
    "    * id: generowane automatycznie z atrybutu/funkcji klasy, num lub str (3 pkt)\n",
    "* metody: \n",
    "    * get/set (2 pkt), settery w `__init__` lub dekorator (3 pkt)\n",
    "    * promocja: obniża cenę samochodu (3 pkt)\n",
    "    * str, repr (2 pkt)\n",
    "    * `__lt__` i `__gt__` porównujące ceny (2 pkt)\n",
    "    \n",
    "#### Dodatkowe punkty\n",
    "* PEP 8: (2 pkt)\n",
    "* docstr: (3 pkt, tylko za jeden z omawianych typów)\n",
    "* sześć różnych instancji z testami metod (3 pkt)"
   ]
  },
  {
   "cell_type": "code",
   "execution_count": 115,
   "id": "3be75929",
   "metadata": {},
   "outputs": [],
   "source": [
    "class Auto:\n",
    "    '''Obiekt Auto opisuje nam wlasnosci aut.\n",
    "    \n",
    "    Args:\n",
    "        marka (str): trzyma marke auta\n",
    "        model (str): trzyma model auta\n",
    "        cena (int): trzyma cene auta\n",
    "        rok_produkcji (int): trzyma rok produkcji auta\n",
    "\n",
    "\n",
    "    Attributes:\n",
    "        marka: tu przechowujemy informacje o marce\n",
    "        model: tu przechowujemy informacje o modelu\n",
    "        cena: tu przechowujemy informacje o cenie\n",
    "        rok_produkcji: tu przechowujemy informacje o roku produkcji\n",
    "        id: tu przechowujemy unikalny identyfikator\n",
    "        \n",
    "    Methods:\n",
    "        promocja: obniza cene auta\n",
    "        __gt__: sprawdza czy auto jest droższe od innego auta\n",
    "        __lt__: sprawdza czy auto jest tańsze od innego auta\n",
    "    '''\n",
    "    rok_produkcji = 2022\n",
    "\n",
    "    counter = 0\n",
    "\n",
    "    def __init__(self, marka, model, cena):\n",
    "        self._marka = marka\n",
    "        self._model = model\n",
    "        self._cena = cena\n",
    "        self._rok = Auto.rok_produkcji\n",
    "        self.id = str(Auto.counter)\n",
    "        Auto.counter += 1\n",
    "        \n",
    "\n",
    "    def get_marka(self):\n",
    "        return self._marka\n",
    "    \n",
    "    def get_model(self):\n",
    "        return self._model\n",
    "    \n",
    "    def get_cena(self):\n",
    "        return self._cena\n",
    "    \n",
    "    def get_rok_produkcji(self):\n",
    "        return self._rok\n",
    "    \n",
    "    def get_id(self):\n",
    "        return self.id\n",
    "\n",
    "    def set_marka(self, var):\n",
    "        assert isinstance(var, str), 'Marka musi być STR'\n",
    "        self._marka = var\n",
    "        \n",
    "    def set_model(self, var):\n",
    "        assert isinstance(var, str), 'Model musi być STR'\n",
    "        self._model = var\n",
    "        \n",
    "    def set_cena(self, var):\n",
    "        assert isinstance(var, int), 'Cena musi być INT'\n",
    "        self._cena = var\n",
    "        \n",
    "    def set_rok_produkcji(self, var):\n",
    "        assert isinstance(var, int), 'Rok produkcji musi być INT'\n",
    "        self._rok = var\n",
    "    \n",
    "    def promocja(self,var):\n",
    "        self._cena = self._cena - var\n",
    "    \n",
    "    def __gt__(self, other):\n",
    "        return self._cena > other._cena\n",
    "    \n",
    "    def __lt__(self, other):\n",
    "        return self._cena < other._cena\n",
    "    \n",
    "    def __str__(self):\n",
    "        return f'Marka: {self._marka}\\nModel: {self._model}\\nCena: {self._cena}'\n",
    "\n",
    "    def __repr__(self):\n",
    "        return f'Marka: {self._marka}\\nModel: {self._model}\\nCena: {self._cena}'\n",
    "    \n",
    "Auto_1 = Auto('Fiat1', 'Punto1', 2001)\n",
    "Auto_2 = Auto('Fiat2', 'Punto2', 2002)\n",
    "Auto_3 = Auto('Fiat3', 'Punto3', 2003)\n",
    "Auto_4 = Auto('Fiat4', 'Punto4', 2004)\n",
    "Auto_5 = Auto('Fiat5', 'Punto5', 2005)\n",
    "Auto_6 = Auto('Fiat6', 'Punto6', 2006)"
   ]
  },
  {
   "cell_type": "code",
   "execution_count": 116,
   "id": "6ad303ed",
   "metadata": {},
   "outputs": [
    {
     "data": {
      "text/plain": [
       "2001"
      ]
     },
     "execution_count": 116,
     "metadata": {},
     "output_type": "execute_result"
    }
   ],
   "source": [
    "Auto_1.get_cena()\n",
    "#Auto_1.promocja(200)\n",
    "#Auto_1.get_cena()\n",
    "#Auto_1.get_id()\n",
    "#Auto_2.get_id()\n",
    "#Auto_6.get_id()\n",
    "#Auto_3.get_rok_produkcji()\n",
    "#Auto_3.set_rok_produkcji(2020)\n",
    "#Auto_3.get_rok_produkcji()"
   ]
  },
  {
   "cell_type": "code",
   "execution_count": 113,
   "id": "1ec61b6c",
   "metadata": {},
   "outputs": [
    {
     "name": "stdout",
     "output_type": "stream",
     "text": [
      "True False\n"
     ]
    }
   ],
   "source": [
    "print(Auto_1<Auto_2, Auto_3>Auto_4)"
   ]
  },
  {
   "cell_type": "code",
   "execution_count": null,
   "id": "1c3f21de",
   "metadata": {},
   "outputs": [],
   "source": []
  },
  {
   "cell_type": "markdown",
   "id": "38da6d05",
   "metadata": {},
   "source": [
    "## Zadanie 2 `SalonSamochodowy` [40 pkt]\n",
    "Zbuduj klasę `SalonSamochodowy` (5 pkt), która będzie magazynem, gdzie \"składować\" będą Państwo samochody - instancje klasy `Auto` z zadania 1.\n",
    "\n",
    "### Specyfikacja\n",
    "#### `SalonSamochodowy`\n",
    "* argumenty: właściciel, adres (pkt wliczone)\n",
    "* atrybuty: \n",
    "    * właściciel: przechwytuje właściciela, str (pkt wliczone)\n",
    "    * adres: przechwytuje adres salonu, str (pkt wliczone)\n",
    "    * auta: tworzy listę samochodów (3 pkt)\n",
    "* metody: \n",
    "    * get/set (2 pkt), settery w `__init__` lub dekorator (3 pkt)\n",
    "    * dodaj_auto(instancja_klasy_auto): dodaje auto do listy, sprawdzając czy pochodzi z klasy `Auto` (2 pkt)\n",
    "    * usun_auto(id): usuwa auto z listy (po podaniu id) (3 pkt)\n",
    "    * lista_aut(pole): kwerenda, która drukuje listę samochodów posortowaną po odpowiednim polu instancji (a) id - domyślnie, (b) cenie, (c) roku produkcji (3 pkt)\n",
    "    * str, repr (2 pkt)\n",
    "    \n",
    "#### Sortowanie\n",
    "Dodaj funkcję klasy lub metodę implementującą jeden algorytm sortowania, by posortować listę samochodów w powyższej metodzie `lista_aut`:\n",
    "* metody $\\cal O(n^2)$: 5 pkt\n",
    "* metody $\\cal O(n \\log n)$: 10 pkt\n",
    "* `sort` z języka Python: 1 pkt\n",
    "    \n",
    "#### Dodatkowe punkty\n",
    "* docstr: (3 pkt, tylko za jeden z omawianych typów)\n",
    "* PEP 8 (2 pkt)\n",
    "* jedna instancja posiadająca minimum 6 instancji z `Auto` (2 pkt)"
   ]
  },
  {
   "cell_type": "code",
   "execution_count": 192,
   "id": "fd74aef6",
   "metadata": {},
   "outputs": [],
   "source": [
    "def merge_sort(A):\n",
    "        if len(A) == 1:\n",
    "            return A\n",
    "        else:\n",
    "            srodek = len(A) // 2\n",
    "            L = merge_sort(A[:srodek])\n",
    "            P = merge_sort(A[srodek:])\n",
    "            return scal(L,P)\n",
    "    \n",
    "def scal(L,P):\n",
    "        wynik=[]\n",
    "        i = 0\n",
    "        j = 0\n",
    "        while i < len(L) and j < len(P):\n",
    "            if L[i] > P[j]:\n",
    "                wynik.append(P[j])\n",
    "                j += 1\n",
    "            else:\n",
    "                wynik.append(L[i])\n",
    "                i += 1\n",
    "        if i < len(L):\n",
    "            wynik += L[i:]\n",
    "        elif j < len(P):\n",
    "            wynik += P[j:]\n",
    "        return wynik\n",
    "\n",
    "class SalonSamochodowy:\n",
    "    '''Obiekt SalonSamochodowy opisuje nam baze danych.\n",
    "    \n",
    "    Args:\n",
    "        wlasciciel (str): trzyma właściciela\n",
    "        adres (str): trzyma adres\n",
    "\n",
    "    Attributes:\n",
    "        marka: tu przechowujemy informacje o właścicielu\n",
    "        model: tu przechowujemy informacje o adresie\n",
    "        \n",
    "    Methods:\n",
    "        dodaj_auto(instancja_klasy_auto): dodaje auto do listy, sprawdzając czy pochodzi z klasy Auto\n",
    "        usun_auto: usuwa auto z listy(po podaniu id)\n",
    "        lista_aut(pole): kwerenda, która drukuje listę samochodów posortowaną po odpowiednim polu instancji\n",
    "    '''\n",
    "    def __init__(self, wlasciciel, adres):\n",
    "        self._wlasciciel = wlasciciel\n",
    "        self._adres = adres\n",
    "        self._auta = []\n",
    "    \n",
    "    def get_wlasciciel(self):\n",
    "        return self._wlasciciel\n",
    "    \n",
    "    def get_adres(self):\n",
    "        return self._adres\n",
    "    \n",
    "    def set_wlasciciel(self, var):\n",
    "        assert isinstance(var, str), 'Wlasciciel musi być STR'\n",
    "        self._wlasciciel = var\n",
    "    \n",
    "    def set_adres(self, var):\n",
    "        assert isinstance(var, str), 'Adres musi być STR'\n",
    "        self._adres = var\n",
    "    \n",
    "    def dodaj_auto(self, auto: Auto):\n",
    "        if isinstance(auto, Auto):\n",
    "            self._auta.append(auto)\n",
    "\n",
    "    def usun_auto(self, id: int):\n",
    "        for auto in self._auta:\n",
    "            if auto.id == id:\n",
    "                self._auta.remove(auto)\n",
    "                break\n",
    "                \n",
    "    def lista_aut(self, pole=\"id\"):\n",
    "        pass\n",
    "          \n",
    "    def __str__(self):\n",
    "        return f'Właściciel: {self._wlasciciel}\\nAdres: {self._adres}\\nLista Samochodów: {self._auta}'\n",
    "\n",
    "    def __repr__(self):\n",
    "        return f'Właściciel: {self._wlascicel}\\nAdres: {self._adres}\\nLista Samochodów: {self._auta}'    "
   ]
  },
  {
   "cell_type": "code",
   "execution_count": 193,
   "id": "868c8be3",
   "metadata": {},
   "outputs": [],
   "source": [
    "salon = SalonSamochodowy(\"Jan Kowalski\", \"ul. Warszawska 1\")"
   ]
  },
  {
   "cell_type": "code",
   "execution_count": 194,
   "id": "bb05972c",
   "metadata": {},
   "outputs": [
    {
     "ename": "AttributeError",
     "evalue": "'SalonSamochodowy' object has no attribute '_marka'",
     "output_type": "error",
     "traceback": [
      "\u001b[0;31m---------------------------------------------------------------------------\u001b[0m",
      "\u001b[0;31mAttributeError\u001b[0m                            Traceback (most recent call last)",
      "\u001b[0;32m/tmp/ipykernel_977452/2455934304.py\u001b[0m in \u001b[0;36m<module>\u001b[0;34m\u001b[0m\n\u001b[1;32m      8\u001b[0m \u001b[0;34m\u001b[0m\u001b[0m\n\u001b[1;32m      9\u001b[0m \u001b[0msalon\u001b[0m\u001b[0;34m.\u001b[0m\u001b[0musun_auto\u001b[0m\u001b[0;34m(\u001b[0m\u001b[0;36m3\u001b[0m\u001b[0;34m)\u001b[0m\u001b[0;34m\u001b[0m\u001b[0;34m\u001b[0m\u001b[0m\n\u001b[0;32m---> 10\u001b[0;31m \u001b[0msalon\u001b[0m\u001b[0;34m.\u001b[0m\u001b[0mlista_aut\u001b[0m\u001b[0;34m(\u001b[0m\u001b[0;34m'cena'\u001b[0m\u001b[0;34m)\u001b[0m\u001b[0;34m\u001b[0m\u001b[0;34m\u001b[0m\u001b[0m\n\u001b[0m",
      "\u001b[0;32m/tmp/ipykernel_977452/1741627932.py\u001b[0m in \u001b[0;36mlista_aut\u001b[0;34m(self, pole)\u001b[0m\n\u001b[1;32m     76\u001b[0m         \u001b[0;32melif\u001b[0m \u001b[0mpole\u001b[0m \u001b[0;34m==\u001b[0m \u001b[0;34m\"cena\"\u001b[0m\u001b[0;34m:\u001b[0m\u001b[0;34m\u001b[0m\u001b[0;34m\u001b[0m\u001b[0m\n\u001b[1;32m     77\u001b[0m             \u001b[0;32mfor\u001b[0m \u001b[0mcar\u001b[0m \u001b[0;32min\u001b[0m \u001b[0mself\u001b[0m\u001b[0;34m.\u001b[0m\u001b[0m_auta\u001b[0m\u001b[0;34m:\u001b[0m\u001b[0;34m\u001b[0m\u001b[0;34m\u001b[0m\u001b[0m\n\u001b[0;32m---> 78\u001b[0;31m                 \u001b[0mprint\u001b[0m\u001b[0;34m(\u001b[0m\u001b[0;34mf\"{self._marka} {self._model} - cena: {self._cena}\"\u001b[0m\u001b[0;34m)\u001b[0m\u001b[0;34m\u001b[0m\u001b[0;34m\u001b[0m\u001b[0m\n\u001b[0m\u001b[1;32m     79\u001b[0m         \u001b[0;32melif\u001b[0m \u001b[0mpole\u001b[0m \u001b[0;34m==\u001b[0m \u001b[0;34m\"rok\"\u001b[0m\u001b[0;34m:\u001b[0m\u001b[0;34m\u001b[0m\u001b[0;34m\u001b[0m\u001b[0m\n\u001b[1;32m     80\u001b[0m             \u001b[0;32mfor\u001b[0m \u001b[0mcar\u001b[0m \u001b[0;32min\u001b[0m \u001b[0mself\u001b[0m\u001b[0;34m.\u001b[0m\u001b[0m_auta\u001b[0m\u001b[0;34m:\u001b[0m\u001b[0;34m\u001b[0m\u001b[0;34m\u001b[0m\u001b[0m\n",
      "\u001b[0;31mAttributeError\u001b[0m: 'SalonSamochodowy' object has no attribute '_marka'"
     ]
    }
   ],
   "source": [
    "salon.dodaj_auto(Auto_6)\n",
    "salon.dodaj_auto(Auto_4)\n",
    "salon.dodaj_auto(Auto_1)\n",
    "salon.dodaj_auto(Auto_5)\n",
    "salon.dodaj_auto(Auto_3)\n",
    "salon.dodaj_auto(Auto_2)\n",
    "\n",
    "\n",
    "salon.usun_auto(3)\n",
    "salon.lista_aut('cena')"
   ]
  },
  {
   "cell_type": "markdown",
   "id": "51569b8e",
   "metadata": {},
   "source": [
    "## Zadanie 3 (30 pkt)\n",
    "Liczbę $e$ ($\\exp$) można zapisać w postaci nieskończonego szeregu sum odwrotności silni kolejnych liczb naturalnych\n",
    "\n",
    "$$e = \\sum_{n=0}^{\\infty} \\frac{1}{n!} = \\frac{1}{0!} + \\frac{1}{1!} + \\frac{1}{2!} + \\frac{1}{3!} + \\frac{1}{4!} + \\dots$$\n",
    "\n",
    "Zbuduj iterator zwracający kolejne przybliżenia liczby $e$ wykorzystując 3 metody\n",
    "* klasę (8 pkt)\n",
    "* generator (8 pkt)\n",
    "* wyrażenie_generujące (8 pkt)\n",
    "\n",
    "#### Dodatkowe punkty\n",
    "Jeżeli napiszesz swoją własną funkcję obliczającą silnię otrzymasz ostatnie 6 pkt."
   ]
  },
  {
   "cell_type": "code",
   "execution_count": 25,
   "id": "3dca3d4a",
   "metadata": {},
   "outputs": [],
   "source": [
    "def silnia(n):\n",
    "    if n > 1:\n",
    "        return n*silnia(n-1)\n",
    "    return 1\n",
    "\n",
    "class IteratorExp:\n",
    "    \"\"\"...\"\"\"\n",
    "    def __init__(self,koniec):\n",
    "        self.i = 1\n",
    "        self.koniec = koniec\n",
    "        self.e = 0\n",
    "\n",
    "    def __iter__(self):\n",
    "        return self\n",
    "\n",
    "    def __next__(self):\n",
    "        suma = 0\n",
    "        if self.i < self.koniec:\n",
    "            self.e = 1 / silnia(self.i)\n",
    "            suma += self.e\n",
    "            print(suma)\n",
    "            self.i += 1\n",
    "            return self.e\n",
    "        raise StopIteration\n",
    "        \n"
   ]
  },
  {
   "cell_type": "code",
   "execution_count": 40,
   "id": "2b21f824",
   "metadata": {},
   "outputs": [],
   "source": [
    "e1 = IteratorExp(6)\n"
   ]
  },
  {
   "cell_type": "code",
   "execution_count": 41,
   "id": "6c8ee71c",
   "metadata": {},
   "outputs": [
    {
     "name": "stdout",
     "output_type": "stream",
     "text": [
      "1.0\n"
     ]
    },
    {
     "data": {
      "text/plain": [
       "1.0"
      ]
     },
     "execution_count": 41,
     "metadata": {},
     "output_type": "execute_result"
    }
   ],
   "source": [
    "next(e1)"
   ]
  },
  {
   "cell_type": "code",
   "execution_count": 42,
   "id": "de0ecbbb",
   "metadata": {},
   "outputs": [],
   "source": [
    "def generator_e(koniec):  \n",
    "    i = 1\n",
    "    while i < koniec:\n",
    "        yield 1 / (silnia(i))\n",
    "        i += 1"
   ]
  },
  {
   "cell_type": "code",
   "execution_count": 55,
   "id": "e7a853fa",
   "metadata": {},
   "outputs": [],
   "source": [
    "e2 = generator_e(6)\n"
   ]
  },
  {
   "cell_type": "code",
   "execution_count": 56,
   "id": "2882d883",
   "metadata": {},
   "outputs": [
    {
     "data": {
      "text/plain": [
       "1.0"
      ]
     },
     "execution_count": 56,
     "metadata": {},
     "output_type": "execute_result"
    }
   ],
   "source": [
    "next(e2)\n"
   ]
  },
  {
   "cell_type": "code",
   "execution_count": 79,
   "id": "9d56c0d7",
   "metadata": {},
   "outputs": [],
   "source": [
    "generator_exp = lambda x : (1 / (silnia(i)) for i in range(x))\n",
    "ge  = generator_exp(5)"
   ]
  },
  {
   "cell_type": "code",
   "execution_count": 82,
   "id": "b797f2ad",
   "metadata": {},
   "outputs": [
    {
     "data": {
      "text/plain": [
       "0.5"
      ]
     },
     "execution_count": 82,
     "metadata": {},
     "output_type": "execute_result"
    }
   ],
   "source": [
    "next(ge)"
   ]
  },
  {
   "cell_type": "code",
   "execution_count": null,
   "id": "11639259",
   "metadata": {},
   "outputs": [],
   "source": []
  },
  {
   "cell_type": "code",
   "execution_count": null,
   "id": "0dac4735",
   "metadata": {},
   "outputs": [],
   "source": []
  }
 ],
 "metadata": {
  "kernelspec": {
   "display_name": "Python 3 (ipykernel)",
   "language": "python",
   "name": "python3"
  },
  "language_info": {
   "codemirror_mode": {
    "name": "ipython",
    "version": 3
   },
   "file_extension": ".py",
   "mimetype": "text/x-python",
   "name": "python",
   "nbconvert_exporter": "python",
   "pygments_lexer": "ipython3",
   "version": "3.9.5"
  }
 },
 "nbformat": 4,
 "nbformat_minor": 5
}
