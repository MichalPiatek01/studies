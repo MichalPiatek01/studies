{
 "cells": [
  {
   "cell_type": "code",
   "execution_count": 1,
   "id": "e35e97e9",
   "metadata": {},
   "outputs": [],
   "source": [
    "import math"
   ]
  },
  {
   "cell_type": "code",
   "execution_count": 2,
   "id": "daf11d00",
   "metadata": {},
   "outputs": [
    {
     "data": {
      "text/plain": [
       "3.141592653589793"
      ]
     },
     "execution_count": 2,
     "metadata": {},
     "output_type": "execute_result"
    }
   ],
   "source": [
    "math.pi"
   ]
  },
  {
   "cell_type": "code",
   "execution_count": 3,
   "id": "909510be",
   "metadata": {},
   "outputs": [],
   "source": [
    "import math as matematyka"
   ]
  },
  {
   "cell_type": "code",
   "execution_count": 8,
   "id": "78668474",
   "metadata": {},
   "outputs": [
    {
     "data": {
      "text/plain": [
       "3.141592653589793"
      ]
     },
     "execution_count": 8,
     "metadata": {},
     "output_type": "execute_result"
    }
   ],
   "source": [
    "matematyka.pi\n",
    "math.pi"
   ]
  },
  {
   "cell_type": "code",
   "execution_count": 1,
   "id": "fc55f68c",
   "metadata": {},
   "outputs": [],
   "source": [
    "from math import factorial as f"
   ]
  },
  {
   "cell_type": "code",
   "execution_count": 2,
   "id": "040b4d4b",
   "metadata": {},
   "outputs": [
    {
     "data": {
      "text/plain": [
       "120"
      ]
     },
     "execution_count": 2,
     "metadata": {},
     "output_type": "execute_result"
    }
   ],
   "source": [
    "factorial(5)"
   ]
  },
  {
   "cell_type": "code",
   "execution_count": 1,
   "id": "be41f1fe",
   "metadata": {},
   "outputs": [],
   "source": [
    "from math import factorial"
   ]
  },
  {
   "cell_type": "code",
   "execution_count": 13,
   "id": "a1fe4292",
   "metadata": {},
   "outputs": [
    {
     "data": {
      "text/plain": [
       "120"
      ]
     },
     "execution_count": 13,
     "metadata": {},
     "output_type": "execute_result"
    }
   ],
   "source": [
    "factorial(5)"
   ]
  },
  {
   "cell_type": "code",
   "execution_count": 10,
   "id": "3ffec9c2",
   "metadata": {},
   "outputs": [],
   "source": [
    "from math import factorial as f, sin as s, log as l"
   ]
  },
  {
   "cell_type": "code",
   "execution_count": 3,
   "id": "877c42c8",
   "metadata": {},
   "outputs": [],
   "source": [
    "from math import *"
   ]
  },
  {
   "cell_type": "code",
   "execution_count": 4,
   "id": "cbabda38",
   "metadata": {},
   "outputs": [
    {
     "data": {
      "text/plain": [
       "1.2246467991473532e-16"
      ]
     },
     "execution_count": 4,
     "metadata": {},
     "output_type": "execute_result"
    }
   ],
   "source": [
    "sin(pi)"
   ]
  },
  {
   "cell_type": "code",
   "execution_count": 3,
   "id": "7dfa4fac",
   "metadata": {},
   "outputs": [],
   "source": [
    "import importlib"
   ]
  },
  {
   "cell_type": "code",
   "execution_count": 4,
   "id": "cc62b1b8",
   "metadata": {},
   "outputs": [],
   "source": [
    "import lm"
   ]
  },
  {
   "cell_type": "code",
   "execution_count": 5,
   "id": "0d41626b",
   "metadata": {},
   "outputs": [
    {
     "data": {
      "text/plain": [
       "13"
      ]
     },
     "execution_count": 5,
     "metadata": {},
     "output_type": "execute_result"
    }
   ],
   "source": [
    "lm.x"
   ]
  },
  {
   "cell_type": "code",
   "execution_count": 9,
   "id": "daecfcec",
   "metadata": {},
   "outputs": [
    {
     "name": "stdout",
     "output_type": "stream",
     "text": [
      "ACDC_Backinblack.txt  \u001b[0m\u001b[01;34m__pycache__\u001b[0m/  lab1_asymptotyka.ipynb    lab3.ipynb\r\n",
      "Ala.txt               ala.txt       lab2_files_modules.ipynb  lm.py\r\n"
     ]
    }
   ],
   "source": [
    "ls"
   ]
  },
  {
   "cell_type": "code",
   "execution_count": 17,
   "id": "bd29ff41",
   "metadata": {},
   "outputs": [
    {
     "data": {
      "text/plain": [
       "<module 'lm' from '/home/users/michal.piatek/aip/lm.py'>"
      ]
     },
     "execution_count": 17,
     "metadata": {},
     "output_type": "execute_result"
    }
   ],
   "source": [
    "importlib.reload(lm)"
   ]
  },
  {
   "cell_type": "code",
   "execution_count": 15,
   "id": "fb42a94f",
   "metadata": {},
   "outputs": [
    {
     "data": {
      "text/plain": [
       "26"
      ]
     },
     "execution_count": 15,
     "metadata": {},
     "output_type": "execute_result"
    }
   ],
   "source": [
    "lm.y"
   ]
  },
  {
   "cell_type": "code",
   "execution_count": 14,
   "id": "9f99d62f",
   "metadata": {},
   "outputs": [
    {
     "data": {
      "text/plain": [
       "120"
      ]
     },
     "execution_count": 14,
     "metadata": {},
     "output_type": "execute_result"
    }
   ],
   "source": [
    "lm.silnia(5)"
   ]
  },
  {
   "cell_type": "code",
   "execution_count": 18,
   "id": "7495d8fe",
   "metadata": {},
   "outputs": [
    {
     "name": "stdout",
     "output_type": "stream",
     "text": [
      "Help on module lm:\n",
      "\n",
      "NAME\n",
      "    lm - To jest pakiet lm\n",
      "\n",
      "FUNCTIONS\n",
      "    silnia(a)\n",
      "\n",
      "DATA\n",
      "    x = 13\n",
      "    y = 26\n",
      "\n",
      "FILE\n",
      "    /home/users/michal.piatek/aip/lm.py\n",
      "\n",
      "\n"
     ]
    }
   ],
   "source": [
    "help(lm)\n"
   ]
  },
  {
   "cell_type": "code",
   "execution_count": null,
   "id": "5a4e218f",
   "metadata": {},
   "outputs": [],
   "source": []
  },
  {
   "cell_type": "code",
   "execution_count": null,
   "id": "57514899",
   "metadata": {},
   "outputs": [],
   "source": []
  },
  {
   "cell_type": "code",
   "execution_count": null,
   "id": "dff91c7c",
   "metadata": {},
   "outputs": [],
   "source": []
  },
  {
   "cell_type": "code",
   "execution_count": 40,
   "id": "ab8572dc",
   "metadata": {},
   "outputs": [],
   "source": [
    "class Gruszka:\n",
    "    def __init__(self, waga, kolor, smak):\n",
    "        self.waga = waga\n",
    "        self.kolor = kolor\n",
    "        self.smak = smak\n"
   ]
  },
  {
   "cell_type": "code",
   "execution_count": 95,
   "id": "fd8b42f5",
   "metadata": {},
   "outputs": [],
   "source": [
    "g1 = Gruszka(20, 'zielona', 'gorzka')"
   ]
  },
  {
   "cell_type": "code",
   "execution_count": 25,
   "id": "35f2731d",
   "metadata": {},
   "outputs": [
    {
     "data": {
      "text/plain": [
       "<__main__.Gruszka at 0x7fdd7c1191c0>"
      ]
     },
     "execution_count": 25,
     "metadata": {},
     "output_type": "execute_result"
    }
   ],
   "source": [
    "g1"
   ]
  },
  {
   "cell_type": "code",
   "execution_count": 26,
   "id": "9fe6792c",
   "metadata": {},
   "outputs": [
    {
     "name": "stdout",
     "output_type": "stream",
     "text": [
      "<__main__.Gruszka object at 0x7fdd7c1191c0>\n"
     ]
    }
   ],
   "source": [
    "print(g1)"
   ]
  },
  {
   "cell_type": "code",
   "execution_count": 27,
   "id": "0208e2ac",
   "metadata": {},
   "outputs": [
    {
     "data": {
      "text/plain": [
       "20"
      ]
     },
     "execution_count": 27,
     "metadata": {},
     "output_type": "execute_result"
    }
   ],
   "source": [
    "g1.waga"
   ]
  },
  {
   "cell_type": "code",
   "execution_count": 28,
   "id": "3e6b7a1c",
   "metadata": {},
   "outputs": [
    {
     "data": {
      "text/plain": [
       "{'waga': 20, 'kolor': 'zielona', 'smak': 'gorzka'}"
      ]
     },
     "execution_count": 28,
     "metadata": {},
     "output_type": "execute_result"
    }
   ],
   "source": [
    "g1.__dict__"
   ]
  },
  {
   "cell_type": "code",
   "execution_count": 29,
   "id": "afda450b",
   "metadata": {},
   "outputs": [
    {
     "data": {
      "text/plain": [
       "'zielona'"
      ]
     },
     "execution_count": 29,
     "metadata": {},
     "output_type": "execute_result"
    }
   ],
   "source": [
    "g1.__dict__['kolor']"
   ]
  },
  {
   "cell_type": "code",
   "execution_count": 30,
   "id": "8e0772cb",
   "metadata": {},
   "outputs": [],
   "source": [
    "g2 = Gruszka(100, 'brązowa', 'słodka')"
   ]
  },
  {
   "cell_type": "code",
   "execution_count": 31,
   "id": "e1053324",
   "metadata": {},
   "outputs": [
    {
     "data": {
      "text/plain": [
       "'brązowa'"
      ]
     },
     "execution_count": 31,
     "metadata": {},
     "output_type": "execute_result"
    }
   ],
   "source": [
    "g2.kolor"
   ]
  },
  {
   "cell_type": "code",
   "execution_count": 32,
   "id": "411c5403",
   "metadata": {},
   "outputs": [],
   "source": [
    "class Motor:\n",
    "    def __init__(self, marka, pojemnosc, KM):\n",
    "        self.marka = marka\n",
    "        self.pojemnosc = pojemnosc\n",
    "        self.KM = KM"
   ]
  },
  {
   "cell_type": "code",
   "execution_count": 35,
   "id": "9695ab66",
   "metadata": {},
   "outputs": [],
   "source": [
    "m1 = Motor('Yamaha', 50, 100)"
   ]
  },
  {
   "cell_type": "code",
   "execution_count": 34,
   "id": "a872734a",
   "metadata": {},
   "outputs": [
    {
     "data": {
      "text/plain": [
       "'Yamaha'"
      ]
     },
     "execution_count": 34,
     "metadata": {},
     "output_type": "execute_result"
    }
   ],
   "source": [
    "m1.marka"
   ]
  },
  {
   "cell_type": "code",
   "execution_count": 36,
   "id": "4ef89410",
   "metadata": {},
   "outputs": [
    {
     "data": {
      "text/plain": [
       "1100"
      ]
     },
     "execution_count": 36,
     "metadata": {},
     "output_type": "execute_result"
    }
   ],
   "source": [
    "m1.KM + 1000"
   ]
  },
  {
   "cell_type": "code",
   "execution_count": 37,
   "id": "d3e0c9b6",
   "metadata": {},
   "outputs": [],
   "source": [
    "m1.KM = 100"
   ]
  },
  {
   "cell_type": "code",
   "execution_count": 38,
   "id": "0f13f109",
   "metadata": {},
   "outputs": [
    {
     "data": {
      "text/plain": [
       "100"
      ]
     },
     "execution_count": 38,
     "metadata": {},
     "output_type": "execute_result"
    }
   ],
   "source": [
    "m1.KM"
   ]
  },
  {
   "cell_type": "code",
   "execution_count": 102,
   "id": "2be004f6",
   "metadata": {},
   "outputs": [],
   "source": [
    "class Gruszka:\n",
    "    def __init__(self, waga, kolor, smak):\n",
    "        self.waga = waga\n",
    "        self.kolor = kolor\n",
    "        self.smak = smak\n",
    "        \n",
    "    def get_waga(self):\n",
    "        return self.waga\n",
    "    \n",
    "    def set_waga(self, var):\n",
    "        self.waga = var\n",
    "        \n",
    "    def __str__(self):\n",
    "        return f'Gruszka o wadze {self.get_waga()}'\n",
    "    \n",
    "    def __repr__(self):\n",
    "        return str(self)\n",
    "    \n",
    "    def __eq__(self, other):\n",
    "        return self.get_waga() == other.get_waga()"
   ]
  },
  {
   "cell_type": "code",
   "execution_count": 100,
   "id": "cde224a2",
   "metadata": {},
   "outputs": [],
   "source": [
    "g2 = Gruszka(20, 'zielona', 'gorzka')\n",
    "g1 = Gruszka(100, 'zielona', 'gorzka')"
   ]
  },
  {
   "cell_type": "code",
   "execution_count": 99,
   "id": "e50280ad",
   "metadata": {},
   "outputs": [
    {
     "data": {
      "text/plain": [
       "'Gruszka o wadze 20'"
      ]
     },
     "execution_count": 99,
     "metadata": {},
     "output_type": "execute_result"
    }
   ],
   "source": [
    "str(g2)"
   ]
  },
  {
   "cell_type": "code",
   "execution_count": null,
   "id": "7bfce242",
   "metadata": {},
   "outputs": [],
   "source": []
  },
  {
   "cell_type": "code",
   "execution_count": 48,
   "id": "84b5ea25",
   "metadata": {},
   "outputs": [
    {
     "data": {
      "text/plain": [
       "20"
      ]
     },
     "execution_count": 48,
     "metadata": {},
     "output_type": "execute_result"
    }
   ],
   "source": [
    "g2.get_waga()"
   ]
  },
  {
   "cell_type": "code",
   "execution_count": 49,
   "id": "3fe83fd2",
   "metadata": {},
   "outputs": [],
   "source": [
    "g2.set_waga(30)"
   ]
  },
  {
   "cell_type": "code",
   "execution_count": 50,
   "id": "fe8ec511",
   "metadata": {},
   "outputs": [
    {
     "data": {
      "text/plain": [
       "30"
      ]
     },
     "execution_count": 50,
     "metadata": {},
     "output_type": "execute_result"
    }
   ],
   "source": [
    "g2.get_waga()"
   ]
  },
  {
   "cell_type": "code",
   "execution_count": 113,
   "id": "394ab925",
   "metadata": {},
   "outputs": [],
   "source": [
    "class Motor:\n",
    "    def __init__(self, marka, pojemnosc, KM):\n",
    "        self.set_marka(marka)\n",
    "        self.set_pojemnosc(pojemnosc)\n",
    "        self.set_KM(KM)\n",
    "        \n",
    "    def get_marka(self):\n",
    "        return self.marka\n",
    "    \n",
    "    def get_pojemnosc(self):\n",
    "        return self.pojemnosc\n",
    "    \n",
    "    def get_KM(self):\n",
    "        return self.KM\n",
    "    \n",
    "    def czy_dobra_pojemnosc(var):\n",
    "        assert isinstance(var ,int), 'Pojemność musi być INT'\n",
    "        assert var > 0, 'Pojemność musi być > 0'\n",
    "          \n",
    "    def set_marka(self, var):\n",
    "        assert isinstance(var ,str), 'Marka musi być STR'\n",
    "        self.marka = var\n",
    "        \n",
    "    def set_pojemnosc(self, var):\n",
    "        #Motor.czy_dobra_pojemnosc(var)\n",
    "        __class__.czy_dobra_pojemnosc(var)\n",
    "        self.pojemnosc = var\n",
    "    \n",
    "    def set_KM(self, var):\n",
    "        assert isinstance(var ,int), 'KM musi być INT'\n",
    "        self.KM = var\n",
    "        \n",
    "    def __str__(self):\n",
    "        return f'Motor o marce {self.marka}'"
   ]
  },
  {
   "cell_type": "markdown",
   "id": "4b9706d5",
   "metadata": {},
   "source": [
    "set można zaprogramowac defensywnie\n",
    "np. \n",
    "    assert isinstance(var ,int), 'Waga musi być INT'"
   ]
  },
  {
   "cell_type": "code",
   "execution_count": 111,
   "id": "a35a38dd",
   "metadata": {},
   "outputs": [
    {
     "ename": "AssertionError",
     "evalue": "Pojemność musi być > 0",
     "output_type": "error",
     "traceback": [
      "\u001b[0;31m---------------------------------------------------------------------------\u001b[0m",
      "\u001b[0;31mAssertionError\u001b[0m                            Traceback (most recent call last)",
      "\u001b[0;32m/tmp/ipykernel_998080/3706318114.py\u001b[0m in \u001b[0;36m<module>\u001b[0;34m\u001b[0m\n\u001b[0;32m----> 1\u001b[0;31m \u001b[0mm2\u001b[0m \u001b[0;34m=\u001b[0m \u001b[0mMotor\u001b[0m\u001b[0;34m(\u001b[0m\u001b[0;34m'Yamaha'\u001b[0m\u001b[0;34m,\u001b[0m \u001b[0;34m-\u001b[0m\u001b[0;36m2\u001b[0m\u001b[0;34m,\u001b[0m \u001b[0;36m100\u001b[0m\u001b[0;34m)\u001b[0m\u001b[0;34m\u001b[0m\u001b[0;34m\u001b[0m\u001b[0m\n\u001b[0m",
      "\u001b[0;32m/tmp/ipykernel_998080/3905039054.py\u001b[0m in \u001b[0;36m__init__\u001b[0;34m(self, marka, pojemnosc, KM)\u001b[0m\n\u001b[1;32m      2\u001b[0m     \u001b[0;32mdef\u001b[0m \u001b[0m__init__\u001b[0m\u001b[0;34m(\u001b[0m\u001b[0mself\u001b[0m\u001b[0;34m,\u001b[0m \u001b[0mmarka\u001b[0m\u001b[0;34m,\u001b[0m \u001b[0mpojemnosc\u001b[0m\u001b[0;34m,\u001b[0m \u001b[0mKM\u001b[0m\u001b[0;34m)\u001b[0m\u001b[0;34m:\u001b[0m\u001b[0;34m\u001b[0m\u001b[0;34m\u001b[0m\u001b[0m\n\u001b[1;32m      3\u001b[0m         \u001b[0mself\u001b[0m\u001b[0;34m.\u001b[0m\u001b[0mset_marka\u001b[0m\u001b[0;34m(\u001b[0m\u001b[0mmarka\u001b[0m\u001b[0;34m)\u001b[0m\u001b[0;34m\u001b[0m\u001b[0;34m\u001b[0m\u001b[0m\n\u001b[0;32m----> 4\u001b[0;31m         \u001b[0mself\u001b[0m\u001b[0;34m.\u001b[0m\u001b[0mset_pojemnosc\u001b[0m\u001b[0;34m(\u001b[0m\u001b[0mpojemnosc\u001b[0m\u001b[0;34m)\u001b[0m\u001b[0;34m\u001b[0m\u001b[0;34m\u001b[0m\u001b[0m\n\u001b[0m\u001b[1;32m      5\u001b[0m         \u001b[0mself\u001b[0m\u001b[0;34m.\u001b[0m\u001b[0mset_KM\u001b[0m\u001b[0;34m(\u001b[0m\u001b[0mKM\u001b[0m\u001b[0;34m)\u001b[0m\u001b[0;34m\u001b[0m\u001b[0;34m\u001b[0m\u001b[0m\n\u001b[1;32m      6\u001b[0m \u001b[0;34m\u001b[0m\u001b[0m\n",
      "\u001b[0;32m/tmp/ipykernel_998080/3905039054.py\u001b[0m in \u001b[0;36mset_pojemnosc\u001b[0;34m(self, var)\u001b[0m\n\u001b[1;32m     24\u001b[0m     \u001b[0;32mdef\u001b[0m \u001b[0mset_pojemnosc\u001b[0m\u001b[0;34m(\u001b[0m\u001b[0mself\u001b[0m\u001b[0;34m,\u001b[0m \u001b[0mvar\u001b[0m\u001b[0;34m)\u001b[0m\u001b[0;34m:\u001b[0m\u001b[0;34m\u001b[0m\u001b[0;34m\u001b[0m\u001b[0m\n\u001b[1;32m     25\u001b[0m         \u001b[0;31m#Motor.czy_dobra_pojemnosc(var)\u001b[0m\u001b[0;34m\u001b[0m\u001b[0;34m\u001b[0m\u001b[0;34m\u001b[0m\u001b[0m\n\u001b[0;32m---> 26\u001b[0;31m         \u001b[0m__class__\u001b[0m\u001b[0;34m.\u001b[0m\u001b[0mczy_dobra_pojemnosc\u001b[0m\u001b[0;34m(\u001b[0m\u001b[0mvar\u001b[0m\u001b[0;34m)\u001b[0m\u001b[0;34m\u001b[0m\u001b[0;34m\u001b[0m\u001b[0m\n\u001b[0m\u001b[1;32m     27\u001b[0m         \u001b[0mself\u001b[0m\u001b[0;34m.\u001b[0m\u001b[0mpojemnosc\u001b[0m \u001b[0;34m=\u001b[0m \u001b[0mvar\u001b[0m\u001b[0;34m\u001b[0m\u001b[0;34m\u001b[0m\u001b[0m\n\u001b[1;32m     28\u001b[0m \u001b[0;34m\u001b[0m\u001b[0m\n",
      "\u001b[0;32m/tmp/ipykernel_998080/3905039054.py\u001b[0m in \u001b[0;36mczy_dobra_pojemnosc\u001b[0;34m(var)\u001b[0m\n\u001b[1;32m     16\u001b[0m     \u001b[0;32mdef\u001b[0m \u001b[0mczy_dobra_pojemnosc\u001b[0m\u001b[0;34m(\u001b[0m\u001b[0mvar\u001b[0m\u001b[0;34m)\u001b[0m\u001b[0;34m:\u001b[0m\u001b[0;34m\u001b[0m\u001b[0;34m\u001b[0m\u001b[0m\n\u001b[1;32m     17\u001b[0m         \u001b[0;32massert\u001b[0m \u001b[0misinstance\u001b[0m\u001b[0;34m(\u001b[0m\u001b[0mvar\u001b[0m \u001b[0;34m,\u001b[0m\u001b[0mint\u001b[0m\u001b[0;34m)\u001b[0m\u001b[0;34m,\u001b[0m \u001b[0;34m'Pojemność musi być INT'\u001b[0m\u001b[0;34m\u001b[0m\u001b[0;34m\u001b[0m\u001b[0m\n\u001b[0;32m---> 18\u001b[0;31m         \u001b[0;32massert\u001b[0m \u001b[0mvar\u001b[0m \u001b[0;34m>\u001b[0m \u001b[0;36m0\u001b[0m\u001b[0;34m,\u001b[0m \u001b[0;34m'Pojemność musi być > 0'\u001b[0m\u001b[0;34m\u001b[0m\u001b[0;34m\u001b[0m\u001b[0m\n\u001b[0m\u001b[1;32m     19\u001b[0m \u001b[0;34m\u001b[0m\u001b[0m\n\u001b[1;32m     20\u001b[0m     \u001b[0;32mdef\u001b[0m \u001b[0mset_marka\u001b[0m\u001b[0;34m(\u001b[0m\u001b[0mself\u001b[0m\u001b[0;34m,\u001b[0m \u001b[0mvar\u001b[0m\u001b[0;34m)\u001b[0m\u001b[0;34m:\u001b[0m\u001b[0;34m\u001b[0m\u001b[0;34m\u001b[0m\u001b[0m\n",
      "\u001b[0;31mAssertionError\u001b[0m: Pojemność musi być > 0"
     ]
    }
   ],
   "source": [
    "m2 = Motor('Yamaha', -2, 100)"
   ]
  },
  {
   "cell_type": "code",
   "execution_count": 61,
   "id": "d54d7dc1",
   "metadata": {},
   "outputs": [
    {
     "ename": "AssertionError",
     "evalue": "Pojemność musi być INT",
     "output_type": "error",
     "traceback": [
      "\u001b[0;31m---------------------------------------------------------------------------\u001b[0m",
      "\u001b[0;31mAssertionError\u001b[0m                            Traceback (most recent call last)",
      "\u001b[0;32m/tmp/ipykernel_998080/801015737.py\u001b[0m in \u001b[0;36m<module>\u001b[0;34m\u001b[0m\n\u001b[0;32m----> 1\u001b[0;31m \u001b[0mm2\u001b[0m\u001b[0;34m.\u001b[0m\u001b[0mset_pojemnosc\u001b[0m\u001b[0;34m(\u001b[0m\u001b[0;34m'ala'\u001b[0m\u001b[0;34m)\u001b[0m\u001b[0;34m\u001b[0m\u001b[0;34m\u001b[0m\u001b[0m\n\u001b[0m",
      "\u001b[0;32m/tmp/ipykernel_998080/1059104141.py\u001b[0m in \u001b[0;36mset_pojemnosc\u001b[0;34m(self, var)\u001b[0m\n\u001b[1;32m     19\u001b[0m \u001b[0;34m\u001b[0m\u001b[0m\n\u001b[1;32m     20\u001b[0m     \u001b[0;32mdef\u001b[0m \u001b[0mset_pojemnosc\u001b[0m\u001b[0;34m(\u001b[0m\u001b[0mself\u001b[0m\u001b[0;34m,\u001b[0m \u001b[0mvar\u001b[0m\u001b[0;34m)\u001b[0m\u001b[0;34m:\u001b[0m\u001b[0;34m\u001b[0m\u001b[0;34m\u001b[0m\u001b[0m\n\u001b[0;32m---> 21\u001b[0;31m         \u001b[0;32massert\u001b[0m \u001b[0misinstance\u001b[0m\u001b[0;34m(\u001b[0m\u001b[0mvar\u001b[0m \u001b[0;34m,\u001b[0m\u001b[0mint\u001b[0m\u001b[0;34m)\u001b[0m\u001b[0;34m,\u001b[0m \u001b[0;34m'Pojemność musi być INT'\u001b[0m\u001b[0;34m\u001b[0m\u001b[0;34m\u001b[0m\u001b[0m\n\u001b[0m\u001b[1;32m     22\u001b[0m         \u001b[0mself\u001b[0m\u001b[0;34m.\u001b[0m\u001b[0mpojemnosc\u001b[0m \u001b[0;34m=\u001b[0m \u001b[0mvar\u001b[0m\u001b[0;34m\u001b[0m\u001b[0;34m\u001b[0m\u001b[0m\n\u001b[1;32m     23\u001b[0m \u001b[0;34m\u001b[0m\u001b[0m\n",
      "\u001b[0;31mAssertionError\u001b[0m: Pojemność musi być INT"
     ]
    }
   ],
   "source": [
    "m2.set_pojemnosc('ala')"
   ]
  },
  {
   "cell_type": "code",
   "execution_count": 64,
   "id": "37931d88",
   "metadata": {},
   "outputs": [],
   "source": [
    "m3 = Motor('Yamaha', 10, 100)"
   ]
  },
  {
   "cell_type": "code",
   "execution_count": 65,
   "id": "a9db670d",
   "metadata": {},
   "outputs": [
    {
     "data": {
      "text/plain": [
       "<bound method Motor.set_KM of <__main__.Motor object at 0x7fdd747c5100>>"
      ]
     },
     "execution_count": 65,
     "metadata": {},
     "output_type": "execute_result"
    }
   ],
   "source": [
    "m3.set_KM"
   ]
  },
  {
   "cell_type": "code",
   "execution_count": 66,
   "id": "a0c9a36d",
   "metadata": {},
   "outputs": [
    {
     "data": {
      "text/plain": [
       "<function __main__.Motor.get_KM(self)>"
      ]
     },
     "execution_count": 66,
     "metadata": {},
     "output_type": "execute_result"
    }
   ],
   "source": [
    "Motor.get_KM"
   ]
  },
  {
   "cell_type": "code",
   "execution_count": 69,
   "id": "929da83f",
   "metadata": {},
   "outputs": [
    {
     "data": {
      "text/plain": [
       "'<__main__.Motor object at 0x7fdd747c5100>'"
      ]
     },
     "execution_count": 69,
     "metadata": {},
     "output_type": "execute_result"
    }
   ],
   "source": [
    "str(m3)"
   ]
  },
  {
   "cell_type": "code",
   "execution_count": 93,
   "id": "7d986e95",
   "metadata": {},
   "outputs": [
    {
     "data": {
      "text/plain": [
       "'Gruszka o wadze 20'"
      ]
     },
     "execution_count": 93,
     "metadata": {},
     "output_type": "execute_result"
    }
   ],
   "source": [
    "str(g2)"
   ]
  },
  {
   "cell_type": "code",
   "execution_count": 92,
   "id": "d869a3a6",
   "metadata": {},
   "outputs": [
    {
     "data": {
      "text/plain": [
       "'Gruszka o wadze 20'"
      ]
     },
     "execution_count": 92,
     "metadata": {},
     "output_type": "execute_result"
    }
   ],
   "source": [
    "repr(g2)"
   ]
  },
  {
   "cell_type": "code",
   "execution_count": null,
   "id": "cdbfb038",
   "metadata": {},
   "outputs": [],
   "source": []
  },
  {
   "cell_type": "code",
   "execution_count": 115,
   "id": "ca2a35ac",
   "metadata": {},
   "outputs": [],
   "source": [
    "class Stolek:\n",
    "    '''...'''\n",
    "    def __init__(self, waga, kolor):\n",
    "        '''...'''\n",
    "        self.set_waga(waga)\n",
    "        self.set_kolor(kolor)\n",
    "        \n",
    "    def czy_dobra_waga(var):\n",
    "        '''...'''\n",
    "        assert isinstance(var ,int), 'waga musi być INT'\n",
    "        assert var > 0, 'waga musi być > 0'\n",
    "    \n",
    "    def get_waga(self):\n",
    "        return self.waga\n",
    "    \n",
    "    def set_waga(self, var):\n",
    "        __class__.czy_dobra_waga(var)\n",
    "        self.waga = var\n",
    "        \n",
    "    def get_kolor(self):\n",
    "        return self.kolor\n",
    "    \n",
    "    def set_kolor(self, var):\n",
    "        assert isinstance(var, str), 'Kolor musi być STR'\n",
    "        self.kolor = var\n",
    "        \n",
    "    def pomaluj(self, kolor):\n",
    "        self.set_kolor(kolor)\n",
    "        \n",
    "    def __str__(self):\n",
    "        return f'{__class__.__name__} koloru {self.get_kolor()}'\n",
    "    \n",
    "    def __repr__(self):\n",
    "        return str(self)\n",
    "    \n",
    "    def __eq__(self, other):\n",
    "        return self.get_waga() == other.get_waga()"
   ]
  },
  {
   "cell_type": "code",
   "execution_count": null,
   "id": "6c943e11",
   "metadata": {},
   "outputs": [],
   "source": []
  }
 ],
 "metadata": {
  "kernelspec": {
   "display_name": "Python 3 (ipykernel)",
   "language": "python",
   "name": "python3"
  },
  "language_info": {
   "codemirror_mode": {
    "name": "ipython",
    "version": 3
   },
   "file_extension": ".py",
   "mimetype": "text/x-python",
   "name": "python",
   "nbconvert_exporter": "python",
   "pygments_lexer": "ipython3",
   "version": "3.9.5"
  }
 },
 "nbformat": 4,
 "nbformat_minor": 5
}
